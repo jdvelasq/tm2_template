{
 "cells": [
  {
   "cell_type": "code",
   "execution_count": 9,
   "metadata": {},
   "outputs": [
    {
     "name": "stderr",
     "output_type": "stream",
     "text": [
      "/Volumes/GitHub/techminer2/techminer2/read_records.py:220: SettingWithCopyWarning:\n",
      "\n",
      "\n",
      "A value is trying to be set on a copy of a slice from a DataFrame.\n",
      "Try using .loc[row_indexer,col_indexer] = value instead\n",
      "\n",
      "See the caveats in the documentation: https://pandas.pydata.org/pandas-docs/stable/user_guide/indexing.html#returning-a-view-versus-a-copy\n",
      "\n"
     ]
    },
    {
     "name": "stdout",
     "output_type": "stream",
     "text": [
      "--INFO-- The file './reports/most_global_cited_documents__abstracts.txt' was created.\n",
      "--INFO-- The file './reports/most_global_cited_documents__prompt.txt' was created.\n"
     ]
    }
   ],
   "source": [
    "from techminer2.science_mapping.citation import most_cited_documents\n",
    "\n",
    "most_cited_documents(\n",
    "    #\n",
    "    # FUNCTION PARAMS:\n",
    "    metric=\"global_citations\",\n",
    "    top_n=50,\n",
    "    #\n",
    "    # CHART PARAMS:\n",
    "    title=None,\n",
    "    field_label=None,\n",
    "    metric_label=None,\n",
    "    textfont_size=10,\n",
    "    marker_size=7,\n",
    "    line_width=1.5,\n",
    "    yshift=4,\n",
    "    #\n",
    "    # DATABASE PARAMS:\n",
    "    root_dir=\"./\",\n",
    "    database=\"main\",\n",
    "    year_filter=(None, None),\n",
    "    cited_by_filter=(None, None),\n",
    "    document_type=[\"Review\"],\n",
    ").df_.to_csv(\"literature_review/reviews.csv\", sep=\"\\t\")"
   ]
  },
  {
   "cell_type": "code",
   "execution_count": null,
   "metadata": {},
   "outputs": [],
   "source": []
  }
 ],
 "metadata": {
  "kernelspec": {
   "display_name": ".venv",
   "language": "python",
   "name": "python3"
  },
  "language_info": {
   "codemirror_mode": {
    "name": "ipython",
    "version": 3
   },
   "file_extension": ".py",
   "mimetype": "text/x-python",
   "name": "python",
   "nbconvert_exporter": "python",
   "pygments_lexer": "ipython3",
   "version": "3.9.6"
  }
 },
 "nbformat": 4,
 "nbformat_minor": 2
}
