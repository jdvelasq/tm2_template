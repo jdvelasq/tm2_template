{
 "cells": [
  {
   "cell_type": "code",
   "execution_count": 1,
   "metadata": {},
   "outputs": [
    {
     "name": "stdout",
     "output_type": "stream",
     "text": [
      "Note: to be able to use all crisp methods, you need to install some additional packages:  {'bayanpy', 'wurlitzer', 'infomap', 'graph_tool'}\n",
      "Note: to be able to use all crisp methods, you need to install some additional packages:  {'pyclustering', 'ASLPAw'}\n",
      "Note: to be able to use all crisp methods, you need to install some additional packages:  {'wurlitzer', 'infomap'}\n",
      "--INFO-- Applying `descriptors.the.txt` thesaurus to author/index keywords and abstract/title words\n",
      "2016  2017  2018  2019  2020  2021  2022  2023  \n",
      "2016 2\n",
      "2017 2\n",
      "2018 2\n",
      "2019 3\n",
      "2020 4\n",
      "2021 4\n",
      "2022 4\n",
      "2023 4\n"
     ]
    }
   ],
   "source": [
    "from techminer2.science_mapping.co_occurrence import communities_summary\n",
    "from techminer2.refine.thesaurus.descriptors import apply_thesaurus\n",
    "\n",
    "\n",
    "def generate_json_data():\n",
    "    data = {}\n",
    "\n",
    "    for year in range(2016, 2024):\n",
    "        print(year, end=\"  \")\n",
    "\n",
    "        if year == 2016:\n",
    "            year_filter = (2014, 2016)\n",
    "        else:\n",
    "            year_filter = (year, year)\n",
    "\n",
    "        m = communities_summary(\n",
    "            #\n",
    "            # PARAMS:\n",
    "            field=\"descriptors\",\n",
    "            #\n",
    "            # SUMMARY PARAMS:\n",
    "            conserve_counters=False,\n",
    "            #\n",
    "            # FILTER PARAMS:\n",
    "            top_n=None,\n",
    "            occ_range=(3, None),\n",
    "            gc_range=(None, None),\n",
    "            custom_items=None,\n",
    "            #\n",
    "            # NETWORK PARAMS:\n",
    "            algorithm_or_dict=\"louvain\",\n",
    "            association_index=\"association\",\n",
    "            #\n",
    "            # DATABASE PARAMS:\n",
    "            root_dir=\"./\",\n",
    "            database=\"main\",\n",
    "            year_filter=year_filter,\n",
    "            cited_by_filter=(None, None),\n",
    "        )\n",
    "\n",
    "        m[\"Terms\"] = m[\"Terms\"].str.split(\"; \")\n",
    "        m[\"Terms\"] = m[\"Terms\"].map(lambda x: [t.strip().replace(\"_\", \" \").title() for t in x[:10]])\n",
    "\n",
    "        data[str(year)] = {}\n",
    "        for cluster in range(m.shape[0]):\n",
    "            data[str(year)][str(cluster)] = m[\"Terms\"][cluster]\n",
    "    \n",
    "    print()\n",
    "    return data\n",
    "\n",
    "\n",
    "#\n",
    "# Generate the data for the clusters per year.\n",
    "apply_thesaurus(root_dir=\"./\")\n",
    "json_data = generate_json_data()\n",
    "\n",
    "for key in json_data.keys():\n",
    "    print(f\"{key} {len(json_data[key])}\")"
   ]
  },
  {
   "cell_type": "code",
   "execution_count": 48,
   "metadata": {},
   "outputs": [
    {
     "data": {
      "application/vnd.plotly.v1+json": {
       "config": {
        "plotlyServerURL": "https://plot.ly"
       },
       "data": [
        {
         "arrangement": "fixed",
         "link": {
          "source": [
           0,
           1,
           2,
           2,
           3,
           4,
           4,
           5,
           6,
           6,
           6,
           7,
           7,
           7,
           8,
           9,
           9,
           9,
           10,
           10,
           10,
           11,
           11,
           11,
           12,
           12,
           12,
           13,
           13,
           14,
           14,
           15,
           15,
           15,
           16,
           16,
           16,
           17,
           17,
           17,
           18,
           18,
           19,
           19,
           19,
           20
          ],
          "target": [
           2,
           2,
           5,
           4,
           5,
           6,
           7,
           7,
           9,
           10,
           11,
           12,
           9,
           10,
           12,
           16,
           14,
           15,
           16,
           13,
           15,
           13,
           15,
           14,
           16,
           15,
           13,
           17,
           20,
           17,
           18,
           18,
           19,
           17,
           17,
           18,
           19,
           23,
           21,
           24,
           22,
           24,
           22,
           23,
           21,
           23
          ],
          "value": [
           1,
           1,
           2,
           1,
           1,
           2,
           2,
           3,
           2,
           2,
           3,
           2,
           3,
           1,
           1,
           1,
           1,
           1,
           1,
           1,
           2,
           1,
           1,
           1,
           1,
           1,
           1,
           2,
           2,
           2,
           1,
           1,
           2,
           1,
           1,
           1,
           1,
           1,
           2,
           3,
           3,
           3,
           2,
           1,
           1,
           3
          ]
         },
         "node": {
          "color": [
           "RGB(31,119,180)",
           "RGB(44,160,44)",
           "RGB(214,39,40)",
           "RGB(255,102,0)",
           "RGB(31,119,180)",
           "RGB(44,160,44)",
           "RGB(44,160,44)",
           "RGB(31,119,180)",
           "RGB(44,160,44)",
           "RGB(214,39,40)",
           "RGB(31,119,180)",
           "RGB(44,160,44)",
           "RGB(44,160,44)",
           "RGB(44,160,44)",
           "RGB(255,102,0)",
           "RGB(214,39,40)",
           "RGB(31,119,180)",
           "RGB(44,160,44)",
           "RGB(214,39,40)",
           "RGB(214,39,40)",
           "RGB(44,160,44)",
           "RGB(31,119,180)",
           "RGB(214,39,40)",
           "RGB(44,160,44)",
           "RGB(214,39,40)"
          ],
          "label": [
           "Big Data<br>Organizational Performance<br>Decision Making",
           "Predictive Analytics<br>Employment<br>Data Mining",
           "Information Systems<br>Big Data<br>Predictive Analytics<br>Human Resources Strategy<br>Big Data Analytics<br>Change Management",
           "Organizations<br>Social Networks<br>Social Media<br>Human Resources Area",
           "Human Resources Professionals<br>Big Data<br>Competitive Advantages<br>Decision Making<br>Human Resources Domain<br>Human Resources Data",
           "Organizations<br>Predictive Analytics<br>Information Systems<br>Employee Turnover<br>Data Availability",
           "Human Resources Professionals<br>Artificial Intelligence<br>Human Resources Practices<br>Machine Learning<br>Organizational Performance<br>Human Resources Metrics",
           "Predictive Analytics<br>Decision Making<br>Information Systems<br>Big Data<br>Human Resources Function<br>Data Science",
           "Human Resources Planning<br>Employee Attrition<br>Employee Modelling<br>Employee Selection",
           "Human Resources Professionals<br>Information Systems<br>Decision Making<br>Human Resources Practices<br>Human Resources Development<br>Strategic Human Resource Management",
           "Big Data<br>Artificial Intelligence<br>Information Management<br>Big Data Analytics<br>Employee Data<br>Human Resources Management Systems",
           "Machine Learning<br>Employee Recruitment<br>Employment<br>Organizational Performance<br>Prescriptive Analytics<br>Learning Algorithms",
           "Predictive Analytics<br>Employee Attrition<br>Organizations<br>Random Forests<br>Logistic Regression<br>Predictive Analysis",
           "Artificial Intelligence<br>Machine Learning<br>Data Science<br>Employee Turnover<br>Technology<br>Human Resources Analytics Teams",
           "Human Resources Practices<br>Human Resources Leaders<br>Human Resources Analytics Adoption<br>Ethics<br>Source Data<br>Human Resources Data",
           "Organizations<br>Competitive Advantages<br>Information Management<br>Human Resources Function<br>Organizational Performance<br>Organisational",
           "Big Data<br>Human Resources Professionals<br>Predictive Analytics<br>Data Driven Approach<br>Key Factors",
           "Artificial Intelligence<br>Big Data<br>Organizational Performance<br>Business Analytics<br>Ethics<br>Ethical Issues",
           "Human Resources Professionals<br>Organizations<br>Human Resources Analytics Adoption<br>Behavioural Intention<br>Performance Expectancy<br>Social Influence",
           "Decision Making<br>Predictive Analytics<br>Information Management<br>Behavioral Research<br>Digital Transformation<br>Data Mining",
           "Machine Learning<br>Decision Trees<br>Employee Turnover<br>Random Forests<br>Employee Attrition<br>Logistic Regression",
           "Employee Performance<br>Human Resources Data<br>Performance Management<br>Big Data<br>Employee Engagement<br>Behavioral Research",
           "Human Resources Professionals<br>Human Resources Function<br>Decision Making<br>Analytic Skills<br>Technology<br>Data Availability",
           "Artificial Intelligence<br>Machine Learning<br>Predictive Analytics<br>Employee Attrition<br>Job Satisfaction<br>Human Resources Acquisition",
           "Human Resources Practices<br>Organizational Performance<br>Organizations<br>Human Resources Strategy<br>Technology Adoption<br>Business Analytics"
          ],
          "line": {
           "color": "black",
           "width": 0.3
          },
          "pad": 10,
          "thickness": 10,
          "x": [
           0.025,
           0.025,
           0.1607142857142857,
           0.1607142857142857,
           0.29642857142857143,
           0.29642857142857143,
           0.4321428571428571,
           0.4321428571428571,
           0.4321428571428571,
           0.5678571428571428,
           0.5678571428571428,
           0.5678571428571428,
           0.5678571428571428,
           0.7035714285714286,
           0.7035714285714286,
           0.7035714285714286,
           0.7035714285714286,
           0.8392857142857142,
           0.8392857142857142,
           0.8392857142857142,
           0.8392857142857142,
           0.975,
           0.975,
           0.975,
           0.975
          ],
          "y": [
           0.02,
           0.1,
           0.07,
           0.27,
           0.11,
           0.3,
           0.17,
           0.55,
           0.75,
           0.12,
           0.4,
           0.6,
           0.8,
           0.1,
           0.3,
           0.52,
           0.8,
           0.15,
           0.48,
           0.76,
           0.96,
           0.05,
           0.27,
           0.58,
           0.87
          ]
         },
         "textfont": {
          "color": "black",
          "size": 9
         },
         "type": "sankey"
        }
       ],
       "layout": {
        "annotations": [
         {
          "align": "center",
          "font": {
           "size": 11
          },
          "showarrow": false,
          "text": "2014-2016",
          "x": 0.02,
          "xref": "paper",
          "y": 1.05,
          "yref": "paper"
         },
         {
          "align": "center",
          "font": {
           "size": 11
          },
          "showarrow": false,
          "text": "2017",
          "x": 0.15714285714285714,
          "xref": "paper",
          "y": 1.05,
          "yref": "paper"
         },
         {
          "align": "center",
          "font": {
           "size": 11
          },
          "showarrow": false,
          "text": "2018",
          "x": 0.2942857142857143,
          "xref": "paper",
          "y": 1.05,
          "yref": "paper"
         },
         {
          "align": "center",
          "font": {
           "size": 11
          },
          "showarrow": false,
          "text": "2019",
          "x": 0.43142857142857144,
          "xref": "paper",
          "y": 1.05,
          "yref": "paper"
         },
         {
          "align": "center",
          "font": {
           "size": 11
          },
          "showarrow": false,
          "text": "2020",
          "x": 0.5685714285714286,
          "xref": "paper",
          "y": 1.05,
          "yref": "paper"
         },
         {
          "align": "center",
          "font": {
           "size": 11
          },
          "showarrow": false,
          "text": "2021",
          "x": 0.7057142857142857,
          "xref": "paper",
          "y": 1.05,
          "yref": "paper"
         },
         {
          "align": "center",
          "font": {
           "size": 11
          },
          "showarrow": false,
          "text": "2022",
          "x": 0.8428571428571429,
          "xref": "paper",
          "y": 1.05,
          "yref": "paper"
         },
         {
          "align": "center",
          "font": {
           "size": 11
          },
          "showarrow": false,
          "text": "2023",
          "x": 0.98,
          "xref": "paper",
          "y": 1.05,
          "yref": "paper"
         }
        ],
        "font": {
         "size": 6
        },
        "height": 900,
        "template": {
         "data": {
          "bar": [
           {
            "error_x": {
             "color": "#2a3f5f"
            },
            "error_y": {
             "color": "#2a3f5f"
            },
            "marker": {
             "line": {
              "color": "#E5ECF6",
              "width": 0.5
             },
             "pattern": {
              "fillmode": "overlay",
              "size": 10,
              "solidity": 0.2
             }
            },
            "type": "bar"
           }
          ],
          "barpolar": [
           {
            "marker": {
             "line": {
              "color": "#E5ECF6",
              "width": 0.5
             },
             "pattern": {
              "fillmode": "overlay",
              "size": 10,
              "solidity": 0.2
             }
            },
            "type": "barpolar"
           }
          ],
          "carpet": [
           {
            "aaxis": {
             "endlinecolor": "#2a3f5f",
             "gridcolor": "white",
             "linecolor": "white",
             "minorgridcolor": "white",
             "startlinecolor": "#2a3f5f"
            },
            "baxis": {
             "endlinecolor": "#2a3f5f",
             "gridcolor": "white",
             "linecolor": "white",
             "minorgridcolor": "white",
             "startlinecolor": "#2a3f5f"
            },
            "type": "carpet"
           }
          ],
          "choropleth": [
           {
            "colorbar": {
             "outlinewidth": 0,
             "ticks": ""
            },
            "type": "choropleth"
           }
          ],
          "contour": [
           {
            "colorbar": {
             "outlinewidth": 0,
             "ticks": ""
            },
            "colorscale": [
             [
              0,
              "#0d0887"
             ],
             [
              0.1111111111111111,
              "#46039f"
             ],
             [
              0.2222222222222222,
              "#7201a8"
             ],
             [
              0.3333333333333333,
              "#9c179e"
             ],
             [
              0.4444444444444444,
              "#bd3786"
             ],
             [
              0.5555555555555556,
              "#d8576b"
             ],
             [
              0.6666666666666666,
              "#ed7953"
             ],
             [
              0.7777777777777778,
              "#fb9f3a"
             ],
             [
              0.8888888888888888,
              "#fdca26"
             ],
             [
              1,
              "#f0f921"
             ]
            ],
            "type": "contour"
           }
          ],
          "contourcarpet": [
           {
            "colorbar": {
             "outlinewidth": 0,
             "ticks": ""
            },
            "type": "contourcarpet"
           }
          ],
          "heatmap": [
           {
            "colorbar": {
             "outlinewidth": 0,
             "ticks": ""
            },
            "colorscale": [
             [
              0,
              "#0d0887"
             ],
             [
              0.1111111111111111,
              "#46039f"
             ],
             [
              0.2222222222222222,
              "#7201a8"
             ],
             [
              0.3333333333333333,
              "#9c179e"
             ],
             [
              0.4444444444444444,
              "#bd3786"
             ],
             [
              0.5555555555555556,
              "#d8576b"
             ],
             [
              0.6666666666666666,
              "#ed7953"
             ],
             [
              0.7777777777777778,
              "#fb9f3a"
             ],
             [
              0.8888888888888888,
              "#fdca26"
             ],
             [
              1,
              "#f0f921"
             ]
            ],
            "type": "heatmap"
           }
          ],
          "heatmapgl": [
           {
            "colorbar": {
             "outlinewidth": 0,
             "ticks": ""
            },
            "colorscale": [
             [
              0,
              "#0d0887"
             ],
             [
              0.1111111111111111,
              "#46039f"
             ],
             [
              0.2222222222222222,
              "#7201a8"
             ],
             [
              0.3333333333333333,
              "#9c179e"
             ],
             [
              0.4444444444444444,
              "#bd3786"
             ],
             [
              0.5555555555555556,
              "#d8576b"
             ],
             [
              0.6666666666666666,
              "#ed7953"
             ],
             [
              0.7777777777777778,
              "#fb9f3a"
             ],
             [
              0.8888888888888888,
              "#fdca26"
             ],
             [
              1,
              "#f0f921"
             ]
            ],
            "type": "heatmapgl"
           }
          ],
          "histogram": [
           {
            "marker": {
             "pattern": {
              "fillmode": "overlay",
              "size": 10,
              "solidity": 0.2
             }
            },
            "type": "histogram"
           }
          ],
          "histogram2d": [
           {
            "colorbar": {
             "outlinewidth": 0,
             "ticks": ""
            },
            "colorscale": [
             [
              0,
              "#0d0887"
             ],
             [
              0.1111111111111111,
              "#46039f"
             ],
             [
              0.2222222222222222,
              "#7201a8"
             ],
             [
              0.3333333333333333,
              "#9c179e"
             ],
             [
              0.4444444444444444,
              "#bd3786"
             ],
             [
              0.5555555555555556,
              "#d8576b"
             ],
             [
              0.6666666666666666,
              "#ed7953"
             ],
             [
              0.7777777777777778,
              "#fb9f3a"
             ],
             [
              0.8888888888888888,
              "#fdca26"
             ],
             [
              1,
              "#f0f921"
             ]
            ],
            "type": "histogram2d"
           }
          ],
          "histogram2dcontour": [
           {
            "colorbar": {
             "outlinewidth": 0,
             "ticks": ""
            },
            "colorscale": [
             [
              0,
              "#0d0887"
             ],
             [
              0.1111111111111111,
              "#46039f"
             ],
             [
              0.2222222222222222,
              "#7201a8"
             ],
             [
              0.3333333333333333,
              "#9c179e"
             ],
             [
              0.4444444444444444,
              "#bd3786"
             ],
             [
              0.5555555555555556,
              "#d8576b"
             ],
             [
              0.6666666666666666,
              "#ed7953"
             ],
             [
              0.7777777777777778,
              "#fb9f3a"
             ],
             [
              0.8888888888888888,
              "#fdca26"
             ],
             [
              1,
              "#f0f921"
             ]
            ],
            "type": "histogram2dcontour"
           }
          ],
          "mesh3d": [
           {
            "colorbar": {
             "outlinewidth": 0,
             "ticks": ""
            },
            "type": "mesh3d"
           }
          ],
          "parcoords": [
           {
            "line": {
             "colorbar": {
              "outlinewidth": 0,
              "ticks": ""
             }
            },
            "type": "parcoords"
           }
          ],
          "pie": [
           {
            "automargin": true,
            "type": "pie"
           }
          ],
          "scatter": [
           {
            "fillpattern": {
             "fillmode": "overlay",
             "size": 10,
             "solidity": 0.2
            },
            "type": "scatter"
           }
          ],
          "scatter3d": [
           {
            "line": {
             "colorbar": {
              "outlinewidth": 0,
              "ticks": ""
             }
            },
            "marker": {
             "colorbar": {
              "outlinewidth": 0,
              "ticks": ""
             }
            },
            "type": "scatter3d"
           }
          ],
          "scattercarpet": [
           {
            "marker": {
             "colorbar": {
              "outlinewidth": 0,
              "ticks": ""
             }
            },
            "type": "scattercarpet"
           }
          ],
          "scattergeo": [
           {
            "marker": {
             "colorbar": {
              "outlinewidth": 0,
              "ticks": ""
             }
            },
            "type": "scattergeo"
           }
          ],
          "scattergl": [
           {
            "marker": {
             "colorbar": {
              "outlinewidth": 0,
              "ticks": ""
             }
            },
            "type": "scattergl"
           }
          ],
          "scattermapbox": [
           {
            "marker": {
             "colorbar": {
              "outlinewidth": 0,
              "ticks": ""
             }
            },
            "type": "scattermapbox"
           }
          ],
          "scatterpolar": [
           {
            "marker": {
             "colorbar": {
              "outlinewidth": 0,
              "ticks": ""
             }
            },
            "type": "scatterpolar"
           }
          ],
          "scatterpolargl": [
           {
            "marker": {
             "colorbar": {
              "outlinewidth": 0,
              "ticks": ""
             }
            },
            "type": "scatterpolargl"
           }
          ],
          "scatterternary": [
           {
            "marker": {
             "colorbar": {
              "outlinewidth": 0,
              "ticks": ""
             }
            },
            "type": "scatterternary"
           }
          ],
          "surface": [
           {
            "colorbar": {
             "outlinewidth": 0,
             "ticks": ""
            },
            "colorscale": [
             [
              0,
              "#0d0887"
             ],
             [
              0.1111111111111111,
              "#46039f"
             ],
             [
              0.2222222222222222,
              "#7201a8"
             ],
             [
              0.3333333333333333,
              "#9c179e"
             ],
             [
              0.4444444444444444,
              "#bd3786"
             ],
             [
              0.5555555555555556,
              "#d8576b"
             ],
             [
              0.6666666666666666,
              "#ed7953"
             ],
             [
              0.7777777777777778,
              "#fb9f3a"
             ],
             [
              0.8888888888888888,
              "#fdca26"
             ],
             [
              1,
              "#f0f921"
             ]
            ],
            "type": "surface"
           }
          ],
          "table": [
           {
            "cells": {
             "fill": {
              "color": "#EBF0F8"
             },
             "line": {
              "color": "white"
             }
            },
            "header": {
             "fill": {
              "color": "#C8D4E3"
             },
             "line": {
              "color": "white"
             }
            },
            "type": "table"
           }
          ]
         },
         "layout": {
          "annotationdefaults": {
           "arrowcolor": "#2a3f5f",
           "arrowhead": 0,
           "arrowwidth": 1
          },
          "autotypenumbers": "strict",
          "coloraxis": {
           "colorbar": {
            "outlinewidth": 0,
            "ticks": ""
           }
          },
          "colorscale": {
           "diverging": [
            [
             0,
             "#8e0152"
            ],
            [
             0.1,
             "#c51b7d"
            ],
            [
             0.2,
             "#de77ae"
            ],
            [
             0.3,
             "#f1b6da"
            ],
            [
             0.4,
             "#fde0ef"
            ],
            [
             0.5,
             "#f7f7f7"
            ],
            [
             0.6,
             "#e6f5d0"
            ],
            [
             0.7,
             "#b8e186"
            ],
            [
             0.8,
             "#7fbc41"
            ],
            [
             0.9,
             "#4d9221"
            ],
            [
             1,
             "#276419"
            ]
           ],
           "sequential": [
            [
             0,
             "#0d0887"
            ],
            [
             0.1111111111111111,
             "#46039f"
            ],
            [
             0.2222222222222222,
             "#7201a8"
            ],
            [
             0.3333333333333333,
             "#9c179e"
            ],
            [
             0.4444444444444444,
             "#bd3786"
            ],
            [
             0.5555555555555556,
             "#d8576b"
            ],
            [
             0.6666666666666666,
             "#ed7953"
            ],
            [
             0.7777777777777778,
             "#fb9f3a"
            ],
            [
             0.8888888888888888,
             "#fdca26"
            ],
            [
             1,
             "#f0f921"
            ]
           ],
           "sequentialminus": [
            [
             0,
             "#0d0887"
            ],
            [
             0.1111111111111111,
             "#46039f"
            ],
            [
             0.2222222222222222,
             "#7201a8"
            ],
            [
             0.3333333333333333,
             "#9c179e"
            ],
            [
             0.4444444444444444,
             "#bd3786"
            ],
            [
             0.5555555555555556,
             "#d8576b"
            ],
            [
             0.6666666666666666,
             "#ed7953"
            ],
            [
             0.7777777777777778,
             "#fb9f3a"
            ],
            [
             0.8888888888888888,
             "#fdca26"
            ],
            [
             1,
             "#f0f921"
            ]
           ]
          },
          "colorway": [
           "#636efa",
           "#EF553B",
           "#00cc96",
           "#ab63fa",
           "#FFA15A",
           "#19d3f3",
           "#FF6692",
           "#B6E880",
           "#FF97FF",
           "#FECB52"
          ],
          "font": {
           "color": "#2a3f5f"
          },
          "geo": {
           "bgcolor": "white",
           "lakecolor": "white",
           "landcolor": "#E5ECF6",
           "showlakes": true,
           "showland": true,
           "subunitcolor": "white"
          },
          "hoverlabel": {
           "align": "left"
          },
          "hovermode": "closest",
          "mapbox": {
           "style": "light"
          },
          "paper_bgcolor": "white",
          "plot_bgcolor": "#E5ECF6",
          "polar": {
           "angularaxis": {
            "gridcolor": "white",
            "linecolor": "white",
            "ticks": ""
           },
           "bgcolor": "#E5ECF6",
           "radialaxis": {
            "gridcolor": "white",
            "linecolor": "white",
            "ticks": ""
           }
          },
          "scene": {
           "xaxis": {
            "backgroundcolor": "#E5ECF6",
            "gridcolor": "white",
            "gridwidth": 2,
            "linecolor": "white",
            "showbackground": true,
            "ticks": "",
            "zerolinecolor": "white"
           },
           "yaxis": {
            "backgroundcolor": "#E5ECF6",
            "gridcolor": "white",
            "gridwidth": 2,
            "linecolor": "white",
            "showbackground": true,
            "ticks": "",
            "zerolinecolor": "white"
           },
           "zaxis": {
            "backgroundcolor": "#E5ECF6",
            "gridcolor": "white",
            "gridwidth": 2,
            "linecolor": "white",
            "showbackground": true,
            "ticks": "",
            "zerolinecolor": "white"
           }
          },
          "shapedefaults": {
           "line": {
            "color": "#2a3f5f"
           }
          },
          "ternary": {
           "aaxis": {
            "gridcolor": "white",
            "linecolor": "white",
            "ticks": ""
           },
           "baxis": {
            "gridcolor": "white",
            "linecolor": "white",
            "ticks": ""
           },
           "bgcolor": "#E5ECF6",
           "caxis": {
            "gridcolor": "white",
            "linecolor": "white",
            "ticks": ""
           }
          },
          "title": {
           "x": 0.05
          },
          "xaxis": {
           "automargin": true,
           "gridcolor": "white",
           "linecolor": "white",
           "ticks": "",
           "title": {
            "standoff": 15
           },
           "zerolinecolor": "white",
           "zerolinewidth": 2
          },
          "yaxis": {
           "automargin": true,
           "gridcolor": "white",
           "linecolor": "white",
           "ticks": "",
           "title": {
            "standoff": 15
           },
           "zerolinecolor": "white",
           "zerolinewidth": 2
          }
         }
        },
        "width": 1500
       }
      }
     },
     "metadata": {},
     "output_type": "display_data"
    }
   ],
   "source": [
    "import sankey\n",
    "\n",
    "# 2016 2\n",
    "# 2017 2\n",
    "# 2018 2\n",
    "# 2019 3\n",
    "# 2020 4\n",
    "# 2021 4\n",
    "# 2022 4\n",
    "# 2023 4\n",
    "\n",
    "\n",
    "def flip_cluster(json_data, year, c1, c2):\n",
    "    aux = json_data[year][c1]\n",
    "    json_data[year][c1] = json_data[year][c2]\n",
    "    json_data[year][c2] = aux\n",
    "    return json_data\n",
    "\n",
    "\n",
    "# json_data = flip_cluster(json_data, '2017', '0', '1')\n",
    "\n",
    "\n",
    "AI_DRIVEN_HRM_GREEN = 'RGB(44,160,44)'\n",
    "BIG_DATA_ANALYTICS_BLUE = 'RGB(31,119,180)'\n",
    "ADOPTION_AND_DECISON_MAKING_RED = 'RGB(214,39,40)'\n",
    "TECHONOLOGY_ETHICS_ORANGE = 'RGB(255,102,0)'\n",
    "\n",
    "sankey.make_sankey_plot(\n",
    "    json_data,\n",
    "    y=[\n",
    "        #\n",
    "        # 2016:2\n",
    "        0.02,\n",
    "        0.10,\n",
    "        #\n",
    "        # 2017: 2\n",
    "        0.07,\n",
    "        0.27,\n",
    "        #\n",
    "        # 2018: 2\n",
    "        0.11,\n",
    "        0.30,\n",
    "        #\n",
    "        # 2019: 3\n",
    "        0.17,\n",
    "        0.55,\n",
    "        0.75,\n",
    "        #\n",
    "        # 2020: 4\n",
    "        0.12,\n",
    "        0.40,\n",
    "        0.60,\n",
    "        0.80,\n",
    "        #\n",
    "        # 2021: 4\n",
    "        0.10,\n",
    "        0.30,\n",
    "        0.52, \n",
    "        0.80,\n",
    "        #\n",
    "        # 2022: 4\n",
    "        0.15,\n",
    "        0.48,\n",
    "        0.76,    \n",
    "        0.96,\n",
    "        #\n",
    "        # 2023: 4\n",
    "        0.05,\n",
    "        0.27,\n",
    "        0.58,                           \n",
    "        0.87,\n",
    "    ],\n",
    "    color=[\n",
    "        BIG_DATA_ANALYTICS_BLUE, AI_DRIVEN_HRM_GREEN,\n",
    "        ADOPTION_AND_DECISON_MAKING_RED, TECHONOLOGY_ETHICS_ORANGE,\n",
    "        BIG_DATA_ANALYTICS_BLUE, AI_DRIVEN_HRM_GREEN,\n",
    "        AI_DRIVEN_HRM_GREEN, BIG_DATA_ANALYTICS_BLUE, AI_DRIVEN_HRM_GREEN,\n",
    "        ADOPTION_AND_DECISON_MAKING_RED, BIG_DATA_ANALYTICS_BLUE, AI_DRIVEN_HRM_GREEN, AI_DRIVEN_HRM_GREEN,\n",
    "        AI_DRIVEN_HRM_GREEN, TECHONOLOGY_ETHICS_ORANGE, ADOPTION_AND_DECISON_MAKING_RED, BIG_DATA_ANALYTICS_BLUE,\n",
    "        AI_DRIVEN_HRM_GREEN, ADOPTION_AND_DECISON_MAKING_RED, ADOPTION_AND_DECISON_MAKING_RED, AI_DRIVEN_HRM_GREEN,\n",
    "        BIG_DATA_ANALYTICS_BLUE, ADOPTION_AND_DECISON_MAKING_RED, AI_DRIVEN_HRM_GREEN, ADOPTION_AND_DECISON_MAKING_RED,\n",
    "    ],\n",
    ").update_layout(width=1500, height=900, font={'size': 6}).show()"
   ]
  },
  {
   "cell_type": "code",
   "execution_count": null,
   "metadata": {},
   "outputs": [],
   "source": [
    "from techminer2.science_mapping.co_occurrence import report\n",
    "\n",
    "def generate_report():\n",
    "\n",
    "    for year in range(2016, 2024):\n",
    "        print(year)\n",
    "\n",
    "        if year == 2016:\n",
    "            year_filter = (2014, 2016)\n",
    "        else:\n",
    "            year_filter = (year, year)\n",
    "\n",
    "        report(\n",
    "            field='descriptors',\n",
    "            #\n",
    "            # COLUMN PARAMS:\n",
    "            top_n=None,\n",
    "            occ_range=(3, None),\n",
    "            gc_range=(None, None),\n",
    "            custom_items=None,\n",
    "            #\n",
    "            # NETWORK PARAMS:\n",
    "            algorithm_or_dict=\"louvain\",\n",
    "            association_index=\"association\",\n",
    "            #\n",
    "            # DATABASE PARAMS:\n",
    "            root_dir=\"./\",\n",
    "            database=\"main\",\n",
    "            year_filter=year_filter,\n",
    "            cited_by_filter=(None, None),\n",
    "        )\n",
    "\n",
    "        !mv reports/co_occurrence/* clusters_by_year_description/{year}/\n",
    "\n",
    "generate_report()"
   ]
  }
 ],
 "metadata": {
  "kernelspec": {
   "display_name": ".venv",
   "language": "python",
   "name": "python3"
  },
  "language_info": {
   "name": "python",
   "version": "3.9.6"
  }
 },
 "nbformat": 4,
 "nbformat_minor": 2
}
