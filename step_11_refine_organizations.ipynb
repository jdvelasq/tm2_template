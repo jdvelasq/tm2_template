{
 "cells": [
  {
   "cell_type": "code",
   "execution_count": null,
   "id": "2cdaab11-ff7b-41d5-80d8-7fdd741fe845",
   "metadata": {},
   "outputs": [],
   "source": [
    "from techminer2.refine.thesaurus.organizations import apply_thesaurus\n",
    "\n",
    "apply_thesaurus(root_dir=\"./\")"
   ]
  }
 ],
 "metadata": {
  "kernelspec": {
   "display_name": "Python 3 (ipykernel)",
   "language": "python",
   "name": "python3"
  },
  "language_info": {
   "codemirror_mode": {
    "name": "ipython",
    "version": 3
   },
   "file_extension": ".py",
   "mimetype": "text/x-python",
   "name": "python",
   "nbconvert_exporter": "python",
   "pygments_lexer": "ipython3",
   "version": "3.9.6"
  }
 },
 "nbformat": 4,
 "nbformat_minor": 5
}
