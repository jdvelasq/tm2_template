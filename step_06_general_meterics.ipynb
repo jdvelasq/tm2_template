{
 "cells": [
  {
   "cell_type": "code",
   "execution_count": 4,
   "id": "f6193ab4-0670-40c5-b1a9-d201ef8b1d37",
   "metadata": {},
   "outputs": [
    {
     "name": "stdout",
     "output_type": "stream",
     "text": [
      "Your task is to generate a short summary for a research paper of a table \\\n",
      "with record and field statistics for a dataset of scientific \\\n",
      "publications. The table below, delimited by triple backticks, provides \\\n",
      "data on the main characteristics of the records and fields of the \\\n",
      "bibliographic dataset. Use the the information in the table to draw \\\n",
      "conclusions. Limit your description to one paragraph in at most 100 \\\n",
      "words.\n",
      "\n",
      "Table:\n",
      "```\n",
      "|                                                        | Value     |\n",
      "|:-------------------------------------------------------|:----------|\n",
      "| ('GENERAL', 'Timespan')                                | 2014:2023 |\n",
      "| ('GENERAL', 'Documents')                               | 447       |\n",
      "| ('GENERAL', 'Annual growth rate %')                    | 51.54     |\n",
      "| ('GENERAL', 'Document average age')                    | 2.71      |\n",
      "| ('GENERAL', 'Average citations per document')          | 13.37     |\n",
      "| ('GENERAL', 'Average citations per document per year') | 1.34      |\n",
      "| ('GENERAL', 'Sources')                                 | 297       |\n",
      "| ('GENERAL', 'Average documents per source')            | 1.51      |\n",
      "| ('DOCUMENT TYPES', 'Article')                          | 235       |\n",
      "| ('DOCUMENT TYPES', 'Book')                             | 7         |\n",
      "| ('DOCUMENT TYPES', 'Book chapter')                     | 52        |\n",
      "| ('DOCUMENT TYPES', 'Conference paper')                 | 112       |\n",
      "| ('DOCUMENT TYPES', 'Letter')                           | 1         |\n",
      "| ('DOCUMENT TYPES', 'Note')                             | 6         |\n",
      "| ('DOCUMENT TYPES', 'Review')                           | 33        |\n",
      "| ('DOCUMENT TYPES', 'Short survey')                     | 1         |\n",
      "| ('AUTHORS', 'Authors')                                 | 1003      |\n",
      "| ('AUTHORS', 'Authors of single-authored documents')    | 78        |\n",
      "| ('AUTHORS', 'Single-authored documents')               | 83        |\n",
      "| ('AUTHORS', 'Multi-authored documents')                | 359       |\n",
      "| ('AUTHORS', 'Authors per document')                    | 2.7       |\n",
      "| ('AUTHORS', 'Co-authors per document')                 | 3.13      |\n",
      "| ('AUTHORS', 'International co-authorship %')           | 18.75     |\n",
      "| ('AUTHORS', 'Author appearances')                      | 1205      |\n",
      "| ('AUTHORS', 'Documents per author')                    | 0.37      |\n",
      "| ('AUTHORS', 'Collaboration index')                     | 1.0       |\n",
      "| ('AUTHORS', 'Organizations')                           | 603       |\n",
      "| ('AUTHORS', 'Organizations (1st author)')              | 356       |\n",
      "| ('AUTHORS', 'Countries')                               | 63        |\n",
      "| ('AUTHORS', 'Countries (1st author)')                  | 57        |\n",
      "| ('KEYWORDS', 'Raw author keywords')                    | 1132      |\n",
      "| ('KEYWORDS', 'Cleaned author keywords')                | 985       |\n",
      "| ('KEYWORDS', 'Raw index keywords')                     | 1155      |\n",
      "| ('KEYWORDS', 'Cleaned index keywords')                 | 1049      |\n",
      "| ('KEYWORDS', 'Raw keywords')                           | 1987      |\n",
      "| ('KEYWORDS', 'Cleaned keywords')                       | 1680      |\n",
      "| ('NLP PHRASES', 'Raw title NLP phrases')               | 640       |\n",
      "| ('NLP PHRASES', 'Cleaned title NLP phrases')           | 550       |\n",
      "| ('NLP PHRASES', 'Raw abstract NLP phrases')            | 6412      |\n",
      "| ('NLP PHRASES', 'Cleaned abstract NLP phrases')        | 5538      |\n",
      "| ('NLP PHRASES', 'Raw NLP phrases')                     | 6754      |\n",
      "| ('NLP PHRASES', 'Cleaned NLP phrases')                 | 5790      |\n",
      "| ('DESCRIPTORS', 'Raw descriptors')                     | 8181      |\n",
      "| ('DESCRIPTORS', 'Cleaned descriptors')                 | 6808      |\n",
      "```\n",
      "\n"
     ]
    }
   ],
   "source": [
    "from techminer2.metrics import general_metrics\n",
    "\n",
    "info = general_metrics(\n",
    "    #\n",
    "    # DATABASE PARAMS:\n",
    "    root_dir=\"./\",\n",
    "    database=\"main\",\n",
    "    year_filter=(None, None),\n",
    "    cited_by_filter=(None, None),\n",
    ")\n",
    "\n",
    "print(info.prompt_)"
   ]
  },
  {
   "cell_type": "code",
   "execution_count": null,
   "id": "ebf57ca7-0b69-41c8-b1fe-d03b2c9dc425",
   "metadata": {},
   "outputs": [],
   "source": []
  }
 ],
 "metadata": {
  "kernelspec": {
   "display_name": "Python 3 (ipykernel)",
   "language": "python",
   "name": "python3"
  },
  "language_info": {
   "codemirror_mode": {
    "name": "ipython",
    "version": 3
   },
   "file_extension": ".py",
   "mimetype": "text/x-python",
   "name": "python",
   "nbconvert_exporter": "python",
   "pygments_lexer": "ipython3",
   "version": "3.9.6"
  }
 },
 "nbformat": 4,
 "nbformat_minor": 5
}
