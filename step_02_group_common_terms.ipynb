{
 "cells": [
  {
   "cell_type": "code",
   "execution_count": 27,
   "id": "05e81b70",
   "metadata": {},
   "outputs": [
    {
     "name": "stdout",
     "output_type": "stream",
     "text": [
      "--INFO-- The file ./thesauri/descriptors.the.txt has been reordered.\n"
     ]
    }
   ],
   "source": [
    "#\n",
    "# PUBLISHERS:\n",
    "#\n",
    "from techminer2.refine.thesaurus.descriptors import find_string\n",
    "\n",
    "find_string(\n",
    "    #\n",
    "    # SEARCH PARAMS:\n",
    "    contains=[\n",
    "        \"CONFERENCE\",\n",
    "        \"EDP_SCIENCES\",\n",
    "        \"ELSEVIER\",\n",
    "        \"EMERALD\",\n",
    "        \"FRANCIS\",\n",
    "        \"GMBH\",\n",
    "        \"IAEME_PUBLICATIONS\",\n",
    "        \"IEEE\",\n",
    "        \"IEOM_SOCIETY\",\n",
    "        \"INDERSCIENCE\",\n",
    "        \"INFORMA_UK\",\n",
    "        \"INTERNATIONAL_SOLAR_ENERGY_SOCIETY\",\n",
    "        \"IOS_PRESS\",\n",
    "        \"JOHN_WILEY\",\n",
    "        \"MDPI\",\n",
    "        \"NOVA_SCIENCE_PUBLISHERS\",\n",
    "        \"PROCEEDINGS\",\n",
    "        \"SCITEPRESS_SCIENCE\",\n",
    "        \"SONS_LTD\",\n",
    "        \"SPRINGER\",\n",
    "        \"SPRINGERVERLAG\",\n",
    "        \"VERLAG\",\n",
    "        \"WILEYVCH\",\n",
    "        \"WIT_PRESS\",\n",
    "    ],\n",
    "    startswith=None,\n",
    "    endswith=None,\n",
    ")"
   ]
  },
  {
   "cell_type": "code",
   "execution_count": 22,
   "id": "559a338f",
   "metadata": {},
   "outputs": [
    {
     "name": "stdout",
     "output_type": "stream",
     "text": [
      "--INFO-- The file ./thesauri/descriptors.the.txt has been reordered.\n"
     ]
    }
   ],
   "source": [
    "from techminer2.refine.thesaurus.descriptors import find_string\n",
    "\n",
    "find_string(contains=[\"LITERATURE_REVIEW\"])"
   ]
  },
  {
   "cell_type": "code",
   "execution_count": 25,
   "id": "3de7bb17",
   "metadata": {},
   "outputs": [
    {
     "name": "stdout",
     "output_type": "stream",
     "text": [
      "--INFO-- The file ./thesauri/descriptors.the.txt has been reordered.\n"
     ]
    }
   ],
   "source": [
    "from techminer2.refine.thesaurus.descriptors import find_string\n",
    "\n",
    "find_string(contains=[\"ARTICLE\"])"
   ]
  },
  {
   "cell_type": "code",
   "execution_count": 24,
   "id": "b9cc2b06",
   "metadata": {},
   "outputs": [
    {
     "name": "stdout",
     "output_type": "stream",
     "text": [
      "--INFO-- The file ./thesauri/descriptors.the.txt has been reordered.\n"
     ]
    }
   ],
   "source": [
    "from techminer2.refine.thesaurus.descriptors import find_string\n",
    "\n",
    "find_string(contains=[\"CHAPTER\"])"
   ]
  },
  {
   "cell_type": "code",
   "execution_count": 26,
   "id": "7294268d",
   "metadata": {},
   "outputs": [
    {
     "name": "stdout",
     "output_type": "stream",
     "text": [
      "--INFO-- The file ./thesauri/descriptors.the.txt has been reordered.\n"
     ]
    }
   ],
   "source": [
    "from techminer2.refine.thesaurus.descriptors import find_string\n",
    "\n",
    "find_string(contains=[\"PAPER\"])"
   ]
  },
  {
   "cell_type": "code",
   "execution_count": 19,
   "id": "a151824a",
   "metadata": {},
   "outputs": [
    {
     "name": "stdout",
     "output_type": "stream",
     "text": [
      "--INFO-- The file ./thesauri/descriptors.the.txt has been reordered.\n"
     ]
    }
   ],
   "source": [
    "from techminer2.refine.thesaurus.descriptors import find_string\n",
    "\n",
    "find_string(contains=[\"STUDY\"])"
   ]
  },
  {
   "cell_type": "code",
   "execution_count": 23,
   "id": "376a06db",
   "metadata": {},
   "outputs": [
    {
     "name": "stdout",
     "output_type": "stream",
     "text": [
      "--INFO-- The file ./thesauri/descriptors.the.txt has been reordered.\n"
     ]
    }
   ],
   "source": [
    "from techminer2.refine.thesaurus.descriptors import find_string\n",
    "\n",
    "find_string(contains=[\"BOOK\"])"
   ]
  },
  {
   "cell_type": "code",
   "execution_count": null,
   "id": "1b7666f3",
   "metadata": {},
   "outputs": [],
   "source": [
    "from techminer2.refine.thesaurus.descriptors import find_string\n",
    "\n",
    "find_string(contains=[\"BIBLIOMETRIC\"])"
   ]
  }
 ],
 "metadata": {
  "kernelspec": {
   "display_name": "Python 3 (ipykernel)",
   "language": "python",
   "name": "python3"
  },
  "language_info": {
   "codemirror_mode": {
    "name": "ipython",
    "version": 3
   },
   "file_extension": ".py",
   "mimetype": "text/x-python",
   "name": "python",
   "nbconvert_exporter": "python",
   "pygments_lexer": "ipython3",
   "version": "3.9.6"
  }
 },
 "nbformat": 4,
 "nbformat_minor": 5
}
