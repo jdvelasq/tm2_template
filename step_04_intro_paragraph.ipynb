{
 "cells": [
  {
   "cell_type": "code",
   "execution_count": 2,
   "metadata": {},
   "outputs": [
    {
     "name": "stdout",
     "output_type": "stream",
     "text": [
      "<<< CIOUS_CYCLE of ethical CHALLENGES _ ALGORITHMIC_OPACITY, DATAFICATION , and nudging _ which limit PEOPLE's ability to cultivat >>>\n",
      "                         does HUMAN_REFLEXIVITY_DISAPPEAR as DATAFICATION and AUTOMATION expand and machines take over DECISION_MA >>>\n",
      "                                            we conclude that DATAFICATION and AUTOMATION have HUGE_IMPLICATIONS for HUMAN_REFLEXIV >>>\n"
     ]
    }
   ],
   "source": [
    "from techminer2.search import concordances\n",
    "\n",
    "result=concordances(\n",
    "    #\n",
    "    # FUNCTION PARAMS:\n",
    "    search_for='datafication',\n",
    "    top_n=30,\n",
    "    report_file=\"concordances_report.txt\",\n",
    "    prompt_file=\"concordances_prompt.txt\",\n",
    "    #\n",
    "    # DATABASE PARAMS:\n",
    "    root_dir=\"./\",\n",
    "    database=\"main\",\n",
    "    year_filter=(None, None),\n",
    "    cited_by_filter=(None, None),\n",
    ")\n",
    "print(result.contexts_)"
   ]
  },
  {
   "cell_type": "code",
   "execution_count": null,
   "metadata": {},
   "outputs": [],
   "source": []
  },
  {
   "cell_type": "code",
   "execution_count": null,
   "metadata": {},
   "outputs": [],
   "source": []
  }
 ],
 "metadata": {
  "kernelspec": {
   "display_name": ".venv",
   "language": "python",
   "name": "python3"
  },
  "language_info": {
   "codemirror_mode": {
    "name": "ipython",
    "version": 3
   },
   "file_extension": ".py",
   "mimetype": "text/x-python",
   "name": "python",
   "nbconvert_exporter": "python",
   "pygments_lexer": "ipython3",
   "version": "3.9.6"
  }
 },
 "nbformat": 4,
 "nbformat_minor": 2
}
