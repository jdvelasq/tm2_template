{
 "cells": [
  {
   "cell_type": "markdown",
   "id": "07f1fcff-ca1a-45b5-8b9b-1df255078324",
   "metadata": {},
   "source": [
    "---"
   ]
  },
  {
   "cell_type": "code",
   "execution_count": null,
   "id": "546e2a4a-4fe5-4f99-acce-b235f9f41f68",
   "metadata": {},
   "outputs": [],
   "source": [
    "from techminer2.tools import coverage\n",
    "\n",
    "coverage(\n",
    "    field=\"descriptors\",\n",
    "    #\n",
    "    # DATABASE PARAMS:\n",
    "    root_dir=\"./\",\n",
    "    database=\"main\",\n",
    "    year_filter=(2014, 2023),\n",
    "    cited_by_filter=(None, None),\n",
    "    document_type=[\n",
    "        'Article',\n",
    "        'Book chapter',\n",
    "        'Conference paper',\n",
    "        'Review',\n",
    "        'Book',\n",
    "        'Conference review',\n",
    "        'Short survey',\n",
    "        'Letter',\n",
    "    ]    \n",
    ").tail(50)"
   ]
  },
  {
   "cell_type": "markdown",
   "id": "918bacd9-b0ee-40b6-a2ca-9c68c360d2d1",
   "metadata": {},
   "source": [
    "---"
   ]
  },
  {
   "cell_type": "code",
   "execution_count": null,
   "id": "abae6138",
   "metadata": {},
   "outputs": [],
   "source": [
    "from techminer2.refine.thesaurus.descriptors import find_string\n",
    "\n",
    "find_string(\n",
    "    #\n",
    "    # SEARCH PARAMS:\n",
    "    contains=None,\n",
    "    startswith=[\n",
    "        \"MEDIUM\", \n",
    "    ],\n",
    "    endswith=None,\n",
    ")"
   ]
  },
  {
   "cell_type": "code",
   "execution_count": null,
   "id": "39c17ec9-7285-4ef7-a0d7-b1f501152a51",
   "metadata": {},
   "outputs": [],
   "source": [
    "import pandas as pd\n",
    "pd.set_option('display.max_rows', 100)\n",
    "from techminer2.science_mapping.co_occurrence import communities\n",
    "from techminer2.refine.thesaurus.descriptors import apply_thesaurus\n",
    "from techminer2.refine.thesaurus.descriptors import list_cleanup\n",
    "from techminer2.refine.thesaurus.descriptors import check_integrity\n",
    "\n",
    "list_cleanup(root_dir=\"./\")\n",
    "check_integrity(root_dir=\"./\")\n",
    "apply_thesaurus(root_dir=\"./\")\n",
    "\n",
    "communities(\n",
    "    #\n",
    "    # COLUMN PARAMS:\n",
    "    field=\"descriptors\",\n",
    "    top_n=None,\n",
    "    occ_range=(3, None),\n",
    "    gc_range=(None, None),\n",
    "    custom_items=None,\n",
    "    #\n",
    "    # NETWORK PARAMS:\n",
    "    algorithm_or_dict=\"louvain\",\n",
    "    association_index=\"association\",\n",
    "    #\n",
    "    # DATABASE PARAMS:\n",
    "    root_dir=\"./\",\n",
    "    database=\"main\",\n",
    "    year_filter=(2014, 2023),\n",
    "    cited_by_filter=(None, None),\n",
    "    document_type=[\n",
    "        'Article',\n",
    "        'Book chapter',\n",
    "        'Conference paper',\n",
    "        'Review',\n",
    "        'Book',\n",
    "        'Conference review',\n",
    "        'Short survey',\n",
    "        'Letter',\n",
    "    ],\n",
    ").head(100)\n"
   ]
  },
  {
   "cell_type": "code",
   "execution_count": null,
   "id": "d9018ecb",
   "metadata": {},
   "outputs": [],
   "source": [
    "from techminer2.refine.thesaurus.descriptors import list_cleanup, replace_string\n",
    "\n",
    "replace_string(\n",
    "    #\n",
    "    # SEARCH PARAMS\n",
    "    contains=\"FIRM\",\n",
    "    startswith=None,\n",
    "    endswith=None,\n",
    "    #\n",
    "    # REPLACE PARAMS:\n",
    "    replace_by=\"COMPANY\",\n",
    ")\n",
    "\n",
    "list_cleanup()"
   ]
  },
  {
   "cell_type": "code",
   "execution_count": null,
   "id": "64adb137",
   "metadata": {},
   "outputs": [],
   "source": [
    "from techminer2.search import concordances\n",
    "\n",
    "print(concordances(\n",
    "    #\n",
    "    # FUNCTION PARAMS:\n",
    "    search_for='IEOM_SOCIETY',\n",
    "    top_n=30,\n",
    "    report_file=\"concordances_report.txt\",\n",
    "    prompt_file=\"concordances_prompt.txt\",\n",
    "    #\n",
    "    # DATABASE PARAMS:\n",
    "    root_dir=\"./\",\n",
    "    database=\"main\",\n",
    "    year_filter=(None, None),\n",
    "    cited_by_filter=(None, None),\n",
    ").contexts_)"
   ]
  },
  {
   "cell_type": "markdown",
   "id": "f5ca8ce9",
   "metadata": {},
   "source": [
    "---"
   ]
  }
 ],
 "metadata": {
  "kernelspec": {
   "display_name": "Python 3 (ipykernel)",
   "language": "python",
   "name": "python3"
  },
  "language_info": {
   "codemirror_mode": {
    "name": "ipython",
    "version": 3
   },
   "file_extension": ".py",
   "mimetype": "text/x-python",
   "name": "python",
   "nbconvert_exporter": "python",
   "pygments_lexer": "ipython3",
   "version": "3.9.6"
  }
 },
 "nbformat": 4,
 "nbformat_minor": 5
}
