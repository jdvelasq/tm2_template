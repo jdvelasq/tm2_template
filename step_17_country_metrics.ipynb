{
 "cells": [
  {
   "cell_type": "code",
   "execution_count": 1,
   "id": "56e72b03-d5ce-4318-ae07-7f979fd526cd",
   "metadata": {},
   "outputs": [
    {
     "name": "stdout",
     "output_type": "stream",
     "text": [
      "| organizations                                                                      |   rank_occ |   rank_gcs |   rank_lcs |   OCC |   global_citations |   local_citations |   h_index |   g_index |   m_index |\n",
      "|:-----------------------------------------------------------------------------------|-----------:|-----------:|-----------:|------:|-------------------:|------------------:|----------:|----------:|----------:|\n",
      "| Amity Univ. (IND)                                                                  |          1 |         76 |         30 |    11 |                 46 |                19 |         4 |         2 |      0.67 |\n",
      "| Univ. of Southern California (USA)                                                 |          2 |          1 |          1 |     7 |                563 |               246 |         6 |         5 |      0.6  |\n",
      "| Chitkara Univ. (IND)                                                               |          3 |        123 |         85 |     7 |                 25 |                 7 |         3 |         1 |      1    |\n",
      "| Copenhagen Bus. Sch. (DNK)                                                         |          4 |         13 |          9 |     5 |                214 |                72 |         4 |         2 |      0.67 |\n",
      "| Bar-Ilan Univ. (ISR)                                                               |          5 |         27 |         14 |     5 |                120 |                37 |         4 |         2 |      0.67 |\n",
      "| Tilburg Univ. (NLD)                                                                |          6 |         36 |         10 |     5 |                 80 |                48 |         3 |         3 |      0.5  |\n",
      "| De La Salle Univ. (PHL)                                                            |          7 |         80 |        311 |     5 |                 45 |                 0 |         5 |         3 |      0.83 |\n",
      "| Tokyo City Univ. (JPN)                                                             |          8 |         81 |        312 |     5 |                 45 |                 0 |         5 |         3 |      0.83 |\n",
      "| Dept. of Nac. Defence, 101 Colonel By Dr (CAN)                                     |          9 |        446 |        296 |     5 |                  0 |                 1 |         0 |         0 |      0    |\n",
      "| Univ. of Michigan (USA)                                                            |         10 |          2 |          7 |     4 |                293 |                86 |         3 |         3 |      0.33 |\n",
      "| Univ. of Edinburgh (GBR)                                                           |         11 |         17 |         31 |     4 |                173 |                18 |         4 |         3 |      0.67 |\n",
      "| Amity Univ. (ARE)                                                                  |         12 |         58 |         47 |     4 |                 60 |                14 |         4 |         3 |      0.8  |\n",
      "| Maynooth Univ. (IRL)                                                               |         13 |         68 |         25 |     4 |                 52 |                20 |         3 |         2 |      1    |\n",
      "| RMIT Univ. (AUS)                                                                   |         14 |        211 |        343 |     4 |                  8 |                 0 |         2 |         1 |      1    |\n",
      "| Univ. at Albany (USA)                                                              |         15 |          6 |          2 |     3 |                274 |               147 |         3 |         3 |      0.43 |\n",
      "| Symbiosis Int. Univ. (SIU) (IND)                                                   |         16 |         11 |         73 |     3 |                233 |                 8 |         3 |         3 |      0.5  |\n",
      "| Univ. of Twente (NLD)                                                              |         17 |         20 |         69 |     3 |                138 |                 9 |         2 |         2 |      0.29 |\n",
      "| Univ. of Dublin (IRL)                                                              |         18 |         69 |         26 |     3 |                 52 |                20 |         3 |         2 |      1    |\n",
      "| Univ. of Sannio (ITA)                                                              |         19 |         73 |         70 |     3 |                 49 |                 9 |         2 |         2 |      0.67 |\n",
      "| Vrije Univ. Brussel (BEL)                                                          |         20 |        104 |         58 |     3 |                 33 |                12 |         2 |         2 |      0.33 |\n",
      "| Leeds Univ. Bus. Sch. (GBR)                                                        |         30 |          3 |          3 |     2 |                280 |               123 |         2 |         2 |      0.25 |\n",
      "| Loughborough Univ. (GBR)                                                           |         31 |          4 |          4 |     2 |                280 |               115 |         2 |         2 |      0.25 |\n",
      "| Purdue Univ. (USA)                                                                 |         32 |          5 |        100 |     2 |                278 |                 5 |         2 |         2 |      0.2  |\n",
      "| Univ. of Nicosia (CYP)                                                             |         33 |         12 |         91 |     2 |                232 |                 6 |         2 |         2 |      1    |\n",
      "| Univ. of Sydney Bus. Sch. (AUS)                                                    |         34 |         19 |         21 |     2 |                141 |                27 |         2 |         2 |      0.5  |\n",
      "| Kent State Univ. (USA)                                                             |        104 |          7 |        111 |     1 |                274 |                 4 |         1 |         1 |      0.1  |\n",
      "| Michigan State Univ. (USA)                                                         |        105 |          8 |        112 |     1 |                274 |                 4 |         1 |         1 |      0.1  |\n",
      "| Independent Strategic HR Analytics Consultant, United Kingdom (GBR)                |        106 |          9 |          5 |     1 |                269 |               115 |         1 |         1 |      0.12 |\n",
      "| Univ. of Sheffield (GBR)                                                           |        107 |         10 |          6 |     1 |                269 |               115 |         1 |         1 |      0.12 |\n",
      "| NEOMA Bus. Sch. (FRA)                                                              |        108 |         14 |        300 |     1 |                204 |                 0 |         1 |         1 |      0.5  |\n",
      "| Univ. of Birmingham (GBR)                                                          |        109 |         15 |        301 |     1 |                204 |                 0 |         1 |         1 |      0.5  |\n",
      "| Pune Inst. of Bus. Manag. (PIBM) (IND)                                             |        110 |         16 |        302 |     1 |                182 |                 0 |         1 |         1 |      0.17 |\n",
      "| Royal Dutch Shell, Carel van Bylandtlaan 16, The Hague, 2596 JM, Netherlands (NLD) |        111 |         18 |          8 |     1 |                151 |                82 |         1 |         1 |      0.11 |\n"
     ]
    }
   ],
   "source": [
    "from techminer2.metrics import performance_metrics\n",
    "\n",
    "metrics = performance_metrics(\n",
    "    field='organizations',\n",
    "    #\n",
    "    # FILTER PARAMS:\n",
    "    metric='OCCGC',\n",
    "    top_n=20,\n",
    "    occ_range=(None, None),\n",
    "    gc_range=(None, None),\n",
    "    custom_items=None,\n",
    "    #\n",
    "    # DATABASE PARAMS:\n",
    "    root_dir=\"./\",\n",
    "    database=\"main\",\n",
    "    year_filter=(2014, 2023),\n",
    "    cited_by_filter=(None, None),\n",
    ")\n",
    "print(metrics.df_.to_markdown())"
   ]
  },
  {
   "cell_type": "code",
   "execution_count": 2,
   "id": "b36c5ae4-321f-42d8-b074-c586520d52bf",
   "metadata": {},
   "outputs": [],
   "source": [
    "table = metrics.df_.copy()\n",
    "table.to_csv('tables/organizations.csv', sep='\\t')"
   ]
  },
  {
   "cell_type": "code",
   "execution_count": 3,
   "id": "3f006934-850d-4b5c-85a2-7f66b9c2f5d6",
   "metadata": {},
   "outputs": [
    {
     "data": {
      "text/plain": [
       "organizations\n",
       "USA    6\n",
       "GBR    6\n",
       "IND    4\n",
       "NLD    3\n",
       "IRL    2\n",
       "AUS    2\n",
       "DNK    1\n",
       "ISR    1\n",
       "PHL    1\n",
       "JPN    1\n",
       "CAN    1\n",
       "ARE    1\n",
       "ITA    1\n",
       "BEL    1\n",
       "CYP    1\n",
       "FRA    1\n",
       "Name: count, dtype: int64"
      ]
     },
     "execution_count": 3,
     "metadata": {},
     "output_type": "execute_result"
    }
   ],
   "source": [
    "organizations = metrics.df_.index.copy()\n",
    "organizations = organizations.str[-4:-1]\n",
    "organizations.value_counts()"
   ]
  },
  {
   "cell_type": "code",
   "execution_count": 4,
   "id": "ae68dc4a-778f-41c5-9832-1ae3b1f9d4c6",
   "metadata": {},
   "outputs": [
    {
     "name": "stdout",
     "output_type": "stream",
     "text": [
      "Your task is to generate an analysis about the bibliometric indicators of \\\n",
      "the 'organizations' field in a scientific bibliography database. \\\n",
      "Summarize the table below, sorted by the 'OCC' metric, and delimited by \\\n",
      "triple backticks, identify any notable patterns, trends, or outliers in \\\n",
      "the data, and discuss their implications for the research field. Be sure \\\n",
      "to provide a concise summary of your findings in no more than 150 words.\n",
      "\n",
      "Table:\n",
      "```\n",
      "| organizations                                                                      |   rank_occ |   rank_gcs |   rank_lcs |   OCC |   global_citations |   local_citations |   h_index |   g_index |   m_index |\n",
      "|:-----------------------------------------------------------------------------------|-----------:|-----------:|-----------:|------:|-------------------:|------------------:|----------:|----------:|----------:|\n",
      "| Amity Univ. (IND)                                                                  |          1 |         76 |         30 |    11 |                 46 |                19 |         4 |         2 |      0.67 |\n",
      "| Univ. of Southern California (USA)                                                 |          2 |          1 |          1 |     7 |                563 |               246 |         6 |         5 |      0.6  |\n",
      "| Chitkara Univ. (IND)                                                               |          3 |        123 |         85 |     7 |                 25 |                 7 |         3 |         1 |      1    |\n",
      "| Copenhagen Bus. Sch. (DNK)                                                         |          4 |         13 |          9 |     5 |                214 |                72 |         4 |         2 |      0.67 |\n",
      "| Bar-Ilan Univ. (ISR)                                                               |          5 |         27 |         14 |     5 |                120 |                37 |         4 |         2 |      0.67 |\n",
      "| Tilburg Univ. (NLD)                                                                |          6 |         36 |         10 |     5 |                 80 |                48 |         3 |         3 |      0.5  |\n",
      "| De La Salle Univ. (PHL)                                                            |          7 |         80 |        311 |     5 |                 45 |                 0 |         5 |         3 |      0.83 |\n",
      "| Tokyo City Univ. (JPN)                                                             |          8 |         81 |        312 |     5 |                 45 |                 0 |         5 |         3 |      0.83 |\n",
      "| Dept. of Nac. Defence, 101 Colonel By Dr (CAN)                                     |          9 |        446 |        296 |     5 |                  0 |                 1 |         0 |         0 |      0    |\n",
      "| Univ. of Michigan (USA)                                                            |         10 |          2 |          7 |     4 |                293 |                86 |         3 |         3 |      0.33 |\n",
      "| Univ. of Edinburgh (GBR)                                                           |         11 |         17 |         31 |     4 |                173 |                18 |         4 |         3 |      0.67 |\n",
      "| Amity Univ. (ARE)                                                                  |         12 |         58 |         47 |     4 |                 60 |                14 |         4 |         3 |      0.8  |\n",
      "| Maynooth Univ. (IRL)                                                               |         13 |         68 |         25 |     4 |                 52 |                20 |         3 |         2 |      1    |\n",
      "| RMIT Univ. (AUS)                                                                   |         14 |        211 |        343 |     4 |                  8 |                 0 |         2 |         1 |      1    |\n",
      "| Univ. at Albany (USA)                                                              |         15 |          6 |          2 |     3 |                274 |               147 |         3 |         3 |      0.43 |\n",
      "| Symbiosis Int. Univ. (SIU) (IND)                                                   |         16 |         11 |         73 |     3 |                233 |                 8 |         3 |         3 |      0.5  |\n",
      "| Univ. of Twente (NLD)                                                              |         17 |         20 |         69 |     3 |                138 |                 9 |         2 |         2 |      0.29 |\n",
      "| Univ. of Dublin (IRL)                                                              |         18 |         69 |         26 |     3 |                 52 |                20 |         3 |         2 |      1    |\n",
      "| Univ. of Sannio (ITA)                                                              |         19 |         73 |         70 |     3 |                 49 |                 9 |         2 |         2 |      0.67 |\n",
      "| Vrije Univ. Brussel (BEL)                                                          |         20 |        104 |         58 |     3 |                 33 |                12 |         2 |         2 |      0.33 |\n",
      "| Leeds Univ. Bus. Sch. (GBR)                                                        |         30 |          3 |          3 |     2 |                280 |               123 |         2 |         2 |      0.25 |\n",
      "| Loughborough Univ. (GBR)                                                           |         31 |          4 |          4 |     2 |                280 |               115 |         2 |         2 |      0.25 |\n",
      "| Purdue Univ. (USA)                                                                 |         32 |          5 |        100 |     2 |                278 |                 5 |         2 |         2 |      0.2  |\n",
      "| Univ. of Nicosia (CYP)                                                             |         33 |         12 |         91 |     2 |                232 |                 6 |         2 |         2 |      1    |\n",
      "| Univ. of Sydney Bus. Sch. (AUS)                                                    |         34 |         19 |         21 |     2 |                141 |                27 |         2 |         2 |      0.5  |\n",
      "| Kent State Univ. (USA)                                                             |        104 |          7 |        111 |     1 |                274 |                 4 |         1 |         1 |      0.1  |\n",
      "| Michigan State Univ. (USA)                                                         |        105 |          8 |        112 |     1 |                274 |                 4 |         1 |         1 |      0.1  |\n",
      "| Independent Strategic HR Analytics Consultant, United Kingdom (GBR)                |        106 |          9 |          5 |     1 |                269 |               115 |         1 |         1 |      0.12 |\n",
      "| Univ. of Sheffield (GBR)                                                           |        107 |         10 |          6 |     1 |                269 |               115 |         1 |         1 |      0.12 |\n",
      "| NEOMA Bus. Sch. (FRA)                                                              |        108 |         14 |        300 |     1 |                204 |                 0 |         1 |         1 |      0.5  |\n",
      "| Univ. of Birmingham (GBR)                                                          |        109 |         15 |        301 |     1 |                204 |                 0 |         1 |         1 |      0.5  |\n",
      "| Pune Inst. of Bus. Manag. (PIBM) (IND)                                             |        110 |         16 |        302 |     1 |                182 |                 0 |         1 |         1 |      0.17 |\n",
      "| Royal Dutch Shell, Carel van Bylandtlaan 16, The Hague, 2596 JM, Netherlands (NLD) |        111 |         18 |          8 |     1 |                151 |                82 |         1 |         1 |      0.11 |\n",
      "```\n",
      "\n"
     ]
    }
   ],
   "source": [
    "print(metrics.prompt_)"
   ]
  },
  {
   "cell_type": "markdown",
   "id": "c7f661cb-f0aa-4441-8a1e-379ced085586",
   "metadata": {},
   "source": [
    "----"
   ]
  },
  {
   "cell_type": "code",
   "execution_count": 6,
   "id": "4c9547ee-241b-4f7f-8987-29a1343cd8c2",
   "metadata": {},
   "outputs": [
    {
     "name": "stdout",
     "output_type": "stream",
     "text": [
      "| countries                     |   India 120:0694 |   United States 089:2347 |   Germany 033:0259 |   United Kingdom 032:1171 |   Australia 021:0275 |   Netherlands 019:0481 |   Italy 012:0218 |   China 012:0162 |   Canada 012:0049 |   Switzerland 009:0160 |   Spain 009:0155 |   Indonesia 009:0047 |   France 008:0265 |   Denmark 008:0260 |   Israel 008:0186 |   Ireland 008:0112 |   Japan 008:0045 |   United Arab Emirates 007:0066 |   Austria 007:0041 |   Belgium 006:0078 |\n",
      "|:------------------------------|-----------------:|-------------------------:|-------------------:|--------------------------:|---------------------:|-----------------------:|-----------------:|-----------------:|------------------:|-----------------------:|-----------------:|---------------------:|------------------:|-------------------:|------------------:|-------------------:|-----------------:|--------------------------------:|-------------------:|-------------------:|\n",
      "| India 120:0694                |              120 |                        3 |                  0 |                         2 |                    0 |                      0 |                0 |                0 |                 0 |                      0 |                0 |                    1 |                 2 |                  0 |                 0 |                  0 |                0 |                               0 |                  0 |                  0 |\n",
      "| United States 089:2347        |                3 |                       89 |                  1 |                         2 |                    1 |                      2 |                1 |                7 |                 1 |                      2 |                1 |                    1 |                 2 |                  0 |                 1 |                  0 |                0 |                               0 |                  0 |                  1 |\n",
      "| Germany 033:0259              |                0 |                        1 |                 33 |                         4 |                    2 |                      0 |                0 |                0 |                 0 |                      4 |                0 |                    0 |                 0 |                  0 |                 0 |                  0 |                0 |                               0 |                  3 |                  0 |\n",
      "| United Kingdom 032:1171       |                2 |                        2 |                  4 |                        32 |                    4 |                      3 |                2 |                0 |                 0 |                      1 |                0 |                    0 |                 2 |                  0 |                 1 |                  1 |                0 |                               0 |                  2 |                  0 |\n",
      "| Australia 021:0275            |                0 |                        1 |                  2 |                         4 |                   21 |                      2 |                0 |                2 |                 0 |                      0 |                0 |                    0 |                 0 |                  2 |                 0 |                  0 |                0 |                               0 |                  0 |                  0 |\n",
      "| Netherlands 019:0481          |                0 |                        2 |                  0 |                         3 |                    2 |                     19 |                1 |                1 |                 0 |                      0 |                0 |                    0 |                 0 |                  0 |                 0 |                  0 |                0 |                               0 |                  0 |                  0 |\n",
      "| Italy 012:0218                |                0 |                        1 |                  0 |                         2 |                    0 |                      1 |               12 |                0 |                 0 |                      1 |                0 |                    0 |                 0 |                  0 |                 0 |                  0 |                0 |                               0 |                  0 |                  0 |\n",
      "| China 012:0162                |                0 |                        7 |                  0 |                         0 |                    2 |                      1 |                0 |               12 |                 0 |                      0 |                0 |                    0 |                 0 |                  0 |                 0 |                  0 |                0 |                               0 |                  0 |                  0 |\n",
      "| Canada 012:0049               |                0 |                        1 |                  0 |                         0 |                    0 |                      0 |                0 |                0 |                12 |                      0 |                0 |                    0 |                 0 |                  0 |                 0 |                  0 |                0 |                               0 |                  0 |                  0 |\n",
      "| Switzerland 009:0160          |                0 |                        2 |                  4 |                         1 |                    0 |                      0 |                1 |                0 |                 0 |                      9 |                0 |                    0 |                 0 |                  0 |                 0 |                  0 |                0 |                               0 |                  0 |                  0 |\n",
      "| Spain 009:0155                |                0 |                        1 |                  0 |                         0 |                    0 |                      0 |                0 |                0 |                 0 |                      0 |                9 |                    0 |                 0 |                  0 |                 0 |                  1 |                0 |                               0 |                  0 |                  0 |\n",
      "| Indonesia 009:0047            |                1 |                        1 |                  0 |                         0 |                    0 |                      0 |                0 |                0 |                 0 |                      0 |                0 |                    9 |                 0 |                  0 |                 0 |                  0 |                0 |                               0 |                  0 |                  0 |\n",
      "| France 008:0265               |                2 |                        2 |                  0 |                         2 |                    0 |                      0 |                0 |                0 |                 0 |                      0 |                0 |                    0 |                 8 |                  0 |                 0 |                  0 |                0 |                               0 |                  0 |                  0 |\n",
      "| Denmark 008:0260              |                0 |                        0 |                  0 |                         0 |                    2 |                      0 |                0 |                0 |                 0 |                      0 |                0 |                    0 |                 0 |                  8 |                 0 |                  0 |                0 |                               0 |                  1 |                  0 |\n",
      "| Israel 008:0186               |                0 |                        1 |                  0 |                         1 |                    0 |                      0 |                0 |                0 |                 0 |                      0 |                0 |                    0 |                 0 |                  0 |                 8 |                  0 |                0 |                               0 |                  0 |                  0 |\n",
      "| Ireland 008:0112              |                0 |                        0 |                  0 |                         1 |                    0 |                      0 |                0 |                0 |                 0 |                      0 |                1 |                    0 |                 0 |                  0 |                 0 |                  8 |                0 |                               0 |                  0 |                  0 |\n",
      "| Japan 008:0045                |                0 |                        0 |                  0 |                         0 |                    0 |                      0 |                0 |                0 |                 0 |                      0 |                0 |                    0 |                 0 |                  0 |                 0 |                  0 |                8 |                               0 |                  0 |                  0 |\n",
      "| United Arab Emirates 007:0066 |                0 |                        0 |                  0 |                         0 |                    0 |                      0 |                0 |                0 |                 0 |                      0 |                0 |                    0 |                 0 |                  0 |                 0 |                  0 |                0 |                               7 |                  0 |                  0 |\n",
      "| Austria 007:0041              |                0 |                        0 |                  3 |                         2 |                    0 |                      0 |                0 |                0 |                 0 |                      0 |                0 |                    0 |                 0 |                  1 |                 0 |                  0 |                0 |                               0 |                  7 |                  0 |\n",
      "| Belgium 006:0078              |                0 |                        1 |                  0 |                         0 |                    0 |                      0 |                0 |                0 |                 0 |                      0 |                0 |                    0 |                 0 |                  0 |                 0 |                  0 |                0 |                               0 |                  0 |                  6 |\n"
     ]
    }
   ],
   "source": [
    "from techminer2.tech_mining.co_occurrence import co_occurrence_matrix\n",
    "\n",
    "matrix = co_occurrence_matrix(\n",
    "    #\n",
    "    # FUNCTION PARAMS:\n",
    "    columns='countries',\n",
    "    rows=None,\n",
    "    #\n",
    "    # COLUMN PARAMS:\n",
    "    col_top_n=20,\n",
    "    col_occ_range=(None, None),\n",
    "    col_gc_range=(None, None),\n",
    "    col_custom_items=None,\n",
    "    #\n",
    "    # ROW PARAMS:\n",
    "    row_top_n=None,\n",
    "    row_occ_range=(None, None),\n",
    "    row_gc_range=(None, None),\n",
    "    row_custom_items=None,\n",
    "    #\n",
    "    # DATABASE PARAMS:\n",
    "    root_dir=\"./\",\n",
    "    database=\"main\",\n",
    "    year_filter=(None, None),\n",
    "    cited_by_filter=(None, None),\n",
    ")\n",
    "print(matrix.df_.to_markdown())"
   ]
  },
  {
   "cell_type": "code",
   "execution_count": 9,
   "metadata": {},
   "outputs": [
    {
     "name": "stdout",
     "output_type": "stream",
     "text": [
      "| countries            |   rank_occ |   rank_gcs |   rank_lcs |   OCC |   global_citations |   local_citations |   h_index |   g_index |   m_index |\n",
      "|:---------------------|-----------:|-----------:|-----------:|------:|-------------------:|------------------:|----------:|----------:|----------:|\n",
      "| India                |          1 |          3 |          4 |   120 |                694 |               146 |        11 |         5 |      1.1  |\n",
      "| United States        |          2 |          1 |          1 |    89 |               2347 |               613 |        25 |         8 |      2.5  |\n",
      "| Germany              |          3 |          8 |          9 |    33 |                259 |                36 |         7 |         3 |      0.88 |\n",
      "| United Kingdom       |          4 |          2 |          2 |    32 |               1171 |               260 |        15 |         6 |      1.88 |\n",
      "| Australia            |          5 |          5 |          6 |    21 |                275 |                83 |         7 |         4 |      0.88 |\n",
      "| Netherlands          |          6 |          4 |          3 |    19 |                481 |               191 |         8 |         6 |      0.89 |\n",
      "| Italy                |          7 |         10 |         11 |    12 |                218 |                27 |         4 |         3 |      0.67 |\n",
      "| China                |          8 |         12 |         10 |    12 |                162 |                33 |         5 |         4 |      0.62 |\n",
      "| Canada               |          9 |         24 |         19 |    12 |                 49 |                13 |         4 |         2 |      0.57 |\n",
      "| Switzerland          |         10 |         13 |         16 |     9 |                160 |                14 |         4 |         3 |      0.57 |\n",
      "| Spain                |         11 |         14 |         14 |     9 |                155 |                17 |         5 |         3 |      0.83 |\n",
      "| Indonesia            |         12 |         25 |         24 |     9 |                 47 |                 7 |         4 |         3 |      0.57 |\n",
      "| France               |         13 |          6 |         17 |     8 |                265 |                13 |         4 |         3 |      0.57 |\n",
      "| Denmark              |         14 |          7 |          5 |     8 |                260 |               102 |         4 |         3 |      0.57 |\n",
      "| Israel               |         15 |         11 |          7 |     8 |                186 |                58 |         4 |         3 |      0.67 |\n",
      "| Ireland              |         16 |         16 |          8 |     8 |                112 |                41 |         5 |         4 |      1.25 |\n",
      "| Japan                |         17 |         26 |         45 |     8 |                 45 |                 0 |         5 |         3 |      0.83 |\n",
      "| United Arab Emirates |         18 |         19 |         13 |     7 |                 66 |                18 |         4 |         3 |      0.8  |\n",
      "| Austria              |         19 |         28 |         20 |     7 |                 41 |                13 |         4 |         2 |      0.5  |\n",
      "| Belgium              |         20 |         17 |         12 |     6 |                 78 |                19 |         4 |         3 |      0.44 |\n",
      "| Portugal             |         21 |         18 |         33 |     5 |                 74 |                 2 |         2 |         1 |      0.33 |\n",
      "| Pakistan             |         26 |         15 |         18 |     4 |                127 |                13 |         2 |         1 |      0.29 |\n",
      "| Cyprus               |         31 |          9 |         25 |     3 |                245 |                 6 |         3 |         3 |      1.5  |\n",
      "| Greece               |         37 |         20 |         21 |     2 |                 63 |                 8 |         2 |         2 |      0.29 |\n"
     ]
    }
   ],
   "source": [
    "from techminer2.metrics import performance_metrics\n",
    "\n",
    "metrics = performance_metrics(\n",
    "    field='countries',\n",
    "    #\n",
    "    # FILTER PARAMS:\n",
    "    metric='OCCGC',\n",
    "    top_n=20,\n",
    "    occ_range=(None, None),\n",
    "    gc_range=(None, None),\n",
    "    custom_items=None,\n",
    "    #\n",
    "    # DATABASE PARAMS:\n",
    "    root_dir=\"./\",\n",
    "    database=\"main\",\n",
    "    year_filter=(2014, 2023),\n",
    "    cited_by_filter=(None, None),\n",
    ")\n",
    "print(metrics.df_.to_markdown())"
   ]
  },
  {
   "cell_type": "code",
   "execution_count": 10,
   "metadata": {},
   "outputs": [],
   "source": [
    "table = metrics.df_.copy()\n",
    "table.to_csv('tables/countries.csv', sep='\\t')"
   ]
  },
  {
   "cell_type": "code",
   "execution_count": 11,
   "metadata": {},
   "outputs": [
    {
     "name": "stdout",
     "output_type": "stream",
     "text": [
      "Your task is to generate an analysis about the bibliometric indicators of \\\n",
      "the 'countries' field in a scientific bibliography database. Summarize \\\n",
      "the table below, sorted by the 'OCC' metric, and delimited by triple \\\n",
      "backticks, identify any notable patterns, trends, or outliers in the \\\n",
      "data, and discuss their implications for the research field. Be sure to \\\n",
      "provide a concise summary of your findings in no more than 150 words.\n",
      "\n",
      "Table:\n",
      "```\n",
      "| countries            |   rank_occ |   rank_gcs |   rank_lcs |   OCC |   global_citations |   local_citations |   h_index |   g_index |   m_index |\n",
      "|:---------------------|-----------:|-----------:|-----------:|------:|-------------------:|------------------:|----------:|----------:|----------:|\n",
      "| India                |          1 |          3 |          4 |   120 |                694 |               146 |        11 |         5 |      1.1  |\n",
      "| United States        |          2 |          1 |          1 |    89 |               2347 |               613 |        25 |         8 |      2.5  |\n",
      "| Germany              |          3 |          8 |          9 |    33 |                259 |                36 |         7 |         3 |      0.88 |\n",
      "| United Kingdom       |          4 |          2 |          2 |    32 |               1171 |               260 |        15 |         6 |      1.88 |\n",
      "| Australia            |          5 |          5 |          6 |    21 |                275 |                83 |         7 |         4 |      0.88 |\n",
      "| Netherlands          |          6 |          4 |          3 |    19 |                481 |               191 |         8 |         6 |      0.89 |\n",
      "| Italy                |          7 |         10 |         11 |    12 |                218 |                27 |         4 |         3 |      0.67 |\n",
      "| China                |          8 |         12 |         10 |    12 |                162 |                33 |         5 |         4 |      0.62 |\n",
      "| Canada               |          9 |         24 |         19 |    12 |                 49 |                13 |         4 |         2 |      0.57 |\n",
      "| Switzerland          |         10 |         13 |         16 |     9 |                160 |                14 |         4 |         3 |      0.57 |\n",
      "| Spain                |         11 |         14 |         14 |     9 |                155 |                17 |         5 |         3 |      0.83 |\n",
      "| Indonesia            |         12 |         25 |         24 |     9 |                 47 |                 7 |         4 |         3 |      0.57 |\n",
      "| France               |         13 |          6 |         17 |     8 |                265 |                13 |         4 |         3 |      0.57 |\n",
      "| Denmark              |         14 |          7 |          5 |     8 |                260 |               102 |         4 |         3 |      0.57 |\n",
      "| Israel               |         15 |         11 |          7 |     8 |                186 |                58 |         4 |         3 |      0.67 |\n",
      "| Ireland              |         16 |         16 |          8 |     8 |                112 |                41 |         5 |         4 |      1.25 |\n",
      "| Japan                |         17 |         26 |         45 |     8 |                 45 |                 0 |         5 |         3 |      0.83 |\n",
      "| United Arab Emirates |         18 |         19 |         13 |     7 |                 66 |                18 |         4 |         3 |      0.8  |\n",
      "| Austria              |         19 |         28 |         20 |     7 |                 41 |                13 |         4 |         2 |      0.5  |\n",
      "| Belgium              |         20 |         17 |         12 |     6 |                 78 |                19 |         4 |         3 |      0.44 |\n",
      "| Portugal             |         21 |         18 |         33 |     5 |                 74 |                 2 |         2 |         1 |      0.33 |\n",
      "| Pakistan             |         26 |         15 |         18 |     4 |                127 |                13 |         2 |         1 |      0.29 |\n",
      "| Cyprus               |         31 |          9 |         25 |     3 |                245 |                 6 |         3 |         3 |      1.5  |\n",
      "| Greece               |         37 |         20 |         21 |     2 |                 63 |                 8 |         2 |         2 |      0.29 |\n",
      "```\n",
      "\n"
     ]
    }
   ],
   "source": [
    "print(metrics.prompt_)"
   ]
  },
  {
   "cell_type": "code",
   "execution_count": null,
   "metadata": {},
   "outputs": [
    {
     "data": {
      "application/vnd.plotly.v1+json": {
       "config": {
        "plotlyServerURL": "https://plot.ly"
       },
       "data": [
        {
         "arrangement": "fixed",
         "link": {
          "source": [
           0,
           1,
           2,
           2,
           3,
           4,
           4,
           5,
           6,
           6,
           6,
           7,
           7,
           7,
           8,
           9,
           9,
           9,
           10,
           10,
           10,
           11,
           11,
           11,
           12,
           12,
           12,
           13,
           13,
           14,
           14,
           15,
           15,
           15,
           16,
           16,
           16,
           17,
           17,
           17,
           18,
           18,
           19,
           19,
           19,
           20
          ],
          "target": [
           2,
           2,
           5,
           4,
           5,
           6,
           7,
           7,
           9,
           10,
           11,
           12,
           9,
           10,
           12,
           16,
           14,
           15,
           16,
           13,
           15,
           13,
           15,
           14,
           16,
           15,
           13,
           17,
           20,
           17,
           18,
           18,
           19,
           17,
           17,
           18,
           19,
           23,
           21,
           24,
           22,
           24,
           22,
           23,
           21,
           23
          ],
          "value": [
           1,
           1,
           2,
           1,
           1,
           2,
           2,
           3,
           2,
           2,
           3,
           2,
           3,
           1,
           1,
           1,
           1,
           1,
           1,
           1,
           2,
           1,
           1,
           1,
           1,
           1,
           1,
           2,
           2,
           2,
           1,
           1,
           2,
           1,
           1,
           1,
           1,
           1,
           2,
           3,
           3,
           3,
           2,
           1,
           1,
           3
          ]
         },
         "node": {
          "color": [
           "RGB(31,119,180)",
           "RGB(255,102,0)",
           "RGB(140,86,75)",
           "RGB(214,39,40)",
           "RGB(227,119,194)",
           "RGB(214,39,40)",
           "RGB(227,119,194)",
           "RGB(255,102,0)",
           "RGB(23,190,207)",
           "RGB(227,119,194)",
           "RGB(31,119,180)",
           "RGB(148,103,189)",
           "RGB(255,102,0)",
           "RGB(44,160,44)",
           "RGB(127,127,127)",
           "RGB(214,39,40)",
           "RGB(31,119,180)",
           "RGB(44,160,44)",
           "RGB(227,119,194)",
           "sienna",
           "RGB(148,103,189)",
           "RGB(188,189,34)",
           "RGB(227,119,194)",
           "RGB(44,160,44)",
           "RGB(127,127,127)"
          ],
          "label": [
           "BIG DATA<br>ORGANIZATIONAL PERFORMANCE<br>DECISION MAKING",
           "PREDICTIVE ANALYTICS<br>EMPLOYMENT<br>DATA MINING",
           "INFORMATION SYSTEMS<br>BIG DATA<br>PREDICTIVE ANALYTICS<br>HUMAN RESOURCES STRATEGY<br>BIG DATA ANALYTICS<br>CHANGE MANAGEMENT",
           "ORGANIZATIONS<br>SOCIAL NETWORKS<br>SOCIAL MEDIA<br>HUMAN RESOURCES AREA",
           "HUMAN RESOURCES PROFESSIONALS<br>BIG DATA<br>COMPETITIVE ADVANTAGES<br>DECISION MAKING<br>HUMAN RESOURCES DOMAIN<br>HUMAN RESOURCES DATA",
           "ORGANIZATIONS<br>PREDICTIVE ANALYTICS<br>INFORMATION SYSTEMS<br>EMPLOYEE TURNOVER<br>DATA AVAILABILITY",
           "HUMAN RESOURCES PROFESSIONALS<br>ARTIFICIAL INTELLIGENCE<br>HUMAN RESOURCES PRACTICES<br>MACHINE LEARNING<br>ORGANIZATIONAL PERFORMANCE<br>HUMAN RESOURCES METRICS",
           "PREDICTIVE ANALYTICS<br>DECISION MAKING<br>INFORMATION SYSTEMS<br>BIG DATA<br>HUMAN RESOURCES FUNCTION<br>DATA SCIENCE",
           "HUMAN RESOURCES PLANNING<br>EMPLOYEE ATTRITION<br>EMPLOYEE MODELLING<br>EMPLOYEE SELECTION",
           "HUMAN RESOURCES PROFESSIONALS<br>INFORMATION SYSTEMS<br>DECISION MAKING<br>HUMAN RESOURCES PRACTICES<br>HUMAN RESOURCES DEVELOPMENT<br>STRATEGIC HUMAN RESOURCE MANAGEMENT",
           "BIG DATA<br>ARTIFICIAL INTELLIGENCE<br>INFORMATION MANAGEMENT<br>BIG DATA ANALYTICS<br>EMPLOYEE DATA<br>HUMAN RESOURCES MANAGEMENT SYSTEMS",
           "MACHINE LEARNING<br>EMPLOYEE RECRUITMENT<br>EMPLOYMENT<br>ORGANIZATIONAL PERFORMANCE<br>PRESCRIPTIVE ANALYTICS<br>LEARNING ALGORITHMS",
           "PREDICTIVE ANALYTICS<br>EMPLOYEE ATTRITION<br>ORGANIZATIONS<br>RANDOM FORESTS<br>LOGISTIC REGRESSION<br>PREDICTIVE ANALYSIS",
           "ARTIFICIAL INTELLIGENCE<br>MACHINE LEARNING<br>DATA SCIENCE<br>EMPLOYEE TURNOVER<br>TECHNOLOGY<br>HUMAN RESOURCES ANALYTICS TEAMS",
           "HUMAN RESOURCES PRACTICES<br>HUMAN RESOURCES LEADERS<br>HUMAN RESOURCES ANALYTICS ADOPTION<br>ETHICS<br>SOURCE DATA<br>HUMAN RESOURCES DATA",
           "ORGANIZATIONS<br>COMPETITIVE ADVANTAGES<br>INFORMATION MANAGEMENT<br>HUMAN RESOURCES FUNCTION<br>ORGANIZATIONAL PERFORMANCE<br>ORGANISATIONAL",
           "BIG DATA<br>HUMAN RESOURCES PROFESSIONALS<br>PREDICTIVE ANALYTICS<br>DATA DRIVEN APPROACH<br>KEY FACTORS",
           "ARTIFICIAL INTELLIGENCE<br>BIG DATA<br>ORGANIZATIONAL PERFORMANCE<br>BUSINESS ANALYTICS<br>ETHICS<br>ETHICAL ISSUES",
           "HUMAN RESOURCES PROFESSIONALS<br>ORGANIZATIONS<br>HUMAN RESOURCES ANALYTICS ADOPTION<br>BEHAVIOURAL INTENTION<br>PERFORMANCE EXPECTANCY<br>SOCIAL INFLUENCE",
           "DECISION MAKING<br>PREDICTIVE ANALYTICS<br>INFORMATION MANAGEMENT<br>BEHAVIORAL RESEARCH<br>DIGITAL TRANSFORMATION<br>DATA MINING",
           "MACHINE LEARNING<br>DECISION TREES<br>EMPLOYEE TURNOVER<br>RANDOM FORESTS<br>EMPLOYEE ATTRITION<br>LOGISTIC REGRESSION",
           "EMPLOYEE PERFORMANCE<br>HUMAN RESOURCES DATA<br>PERFORMANCE MANAGEMENT<br>BIG DATA<br>EMPLOYEE ENGAGEMENT<br>BEHAVIORAL RESEARCH",
           "HUMAN RESOURCES PROFESSIONALS<br>HUMAN RESOURCES FUNCTION<br>DECISION MAKING<br>ANALYTIC SKILLS<br>TECHNOLOGY<br>DATA AVAILABILITY",
           "ARTIFICIAL INTELLIGENCE<br>MACHINE LEARNING<br>PREDICTIVE ANALYTICS<br>EMPLOYEE ATTRITION<br>JOB SATISFACTION<br>HUMAN RESOURCES ACQUISITION",
           "HUMAN RESOURCES PRACTICES<br>ORGANIZATIONAL PERFORMANCE<br>ORGANIZATIONS<br>HUMAN RESOURCES STRATEGY<br>TECHNOLOGY ADOPTION<br>BUSINESS ANALYTICS"
          ],
          "line": {
           "color": "black",
           "width": 0.3
          },
          "pad": 10,
          "thickness": 10,
          "x": [
           0.025,
           0.025,
           0.1607142857142857,
           0.1607142857142857,
           0.29642857142857143,
           0.29642857142857143,
           0.4321428571428571,
           0.4321428571428571,
           0.4321428571428571,
           0.5678571428571428,
           0.5678571428571428,
           0.5678571428571428,
           0.5678571428571428,
           0.7035714285714286,
           0.7035714285714286,
           0.7035714285714286,
           0.7035714285714286,
           0.8392857142857142,
           0.8392857142857142,
           0.8392857142857142,
           0.8392857142857142,
           0.975,
           0.975,
           0.975,
           0.975
          ],
          "y": [
           0.02,
           0.1,
           0.07,
           0.27,
           0.11,
           0.3,
           0.17,
           0.55,
           0.75,
           0.12,
           0.4,
           0.6,
           0.8,
           0.1,
           0.3,
           0.52,
           0.8,
           0.13,
           0.45,
           0.72,
           0.95,
           0.05,
           0.27,
           0.58,
           0.87
          ]
         },
         "textfont": {
          "color": "black",
          "size": 9
         },
         "type": "sankey"
        }
       ],
       "layout": {
        "annotations": [
         {
          "align": "center",
          "font": {
           "size": 11
          },
          "showarrow": false,
          "text": "2014-2016",
          "x": 0.02,
          "xref": "paper",
          "y": 1.05,
          "yref": "paper"
         },
         {
          "align": "center",
          "font": {
           "size": 11
          },
          "showarrow": false,
          "text": "2017",
          "x": 0.15714285714285714,
          "xref": "paper",
          "y": 1.05,
          "yref": "paper"
         },
         {
          "align": "center",
          "font": {
           "size": 11
          },
          "showarrow": false,
          "text": "2018",
          "x": 0.2942857142857143,
          "xref": "paper",
          "y": 1.05,
          "yref": "paper"
         },
         {
          "align": "center",
          "font": {
           "size": 11
          },
          "showarrow": false,
          "text": "2019",
          "x": 0.43142857142857144,
          "xref": "paper",
          "y": 1.05,
          "yref": "paper"
         },
         {
          "align": "center",
          "font": {
           "size": 11
          },
          "showarrow": false,
          "text": "2020",
          "x": 0.5685714285714286,
          "xref": "paper",
          "y": 1.05,
          "yref": "paper"
         },
         {
          "align": "center",
          "font": {
           "size": 11
          },
          "showarrow": false,
          "text": "2021",
          "x": 0.7057142857142857,
          "xref": "paper",
          "y": 1.05,
          "yref": "paper"
         },
         {
          "align": "center",
          "font": {
           "size": 11
          },
          "showarrow": false,
          "text": "2022",
          "x": 0.8428571428571429,
          "xref": "paper",
          "y": 1.05,
          "yref": "paper"
         },
         {
          "align": "center",
          "font": {
           "size": 11
          },
          "showarrow": false,
          "text": "2023",
          "x": 0.98,
          "xref": "paper",
          "y": 1.05,
          "yref": "paper"
         }
        ],
        "height": 1200,
        "template": {
         "data": {
          "bar": [
           {
            "error_x": {
             "color": "#2a3f5f"
            },
            "error_y": {
             "color": "#2a3f5f"
            },
            "marker": {
             "line": {
              "color": "#E5ECF6",
              "width": 0.5
             },
             "pattern": {
              "fillmode": "overlay",
              "size": 10,
              "solidity": 0.2
             }
            },
            "type": "bar"
           }
          ],
          "barpolar": [
           {
            "marker": {
             "line": {
              "color": "#E5ECF6",
              "width": 0.5
             },
             "pattern": {
              "fillmode": "overlay",
              "size": 10,
              "solidity": 0.2
             }
            },
            "type": "barpolar"
           }
          ],
          "carpet": [
           {
            "aaxis": {
             "endlinecolor": "#2a3f5f",
             "gridcolor": "white",
             "linecolor": "white",
             "minorgridcolor": "white",
             "startlinecolor": "#2a3f5f"
            },
            "baxis": {
             "endlinecolor": "#2a3f5f",
             "gridcolor": "white",
             "linecolor": "white",
             "minorgridcolor": "white",
             "startlinecolor": "#2a3f5f"
            },
            "type": "carpet"
           }
          ],
          "choropleth": [
           {
            "colorbar": {
             "outlinewidth": 0,
             "ticks": ""
            },
            "type": "choropleth"
           }
          ],
          "contour": [
           {
            "colorbar": {
             "outlinewidth": 0,
             "ticks": ""
            },
            "colorscale": [
             [
              0,
              "#0d0887"
             ],
             [
              0.1111111111111111,
              "#46039f"
             ],
             [
              0.2222222222222222,
              "#7201a8"
             ],
             [
              0.3333333333333333,
              "#9c179e"
             ],
             [
              0.4444444444444444,
              "#bd3786"
             ],
             [
              0.5555555555555556,
              "#d8576b"
             ],
             [
              0.6666666666666666,
              "#ed7953"
             ],
             [
              0.7777777777777778,
              "#fb9f3a"
             ],
             [
              0.8888888888888888,
              "#fdca26"
             ],
             [
              1,
              "#f0f921"
             ]
            ],
            "type": "contour"
           }
          ],
          "contourcarpet": [
           {
            "colorbar": {
             "outlinewidth": 0,
             "ticks": ""
            },
            "type": "contourcarpet"
           }
          ],
          "heatmap": [
           {
            "colorbar": {
             "outlinewidth": 0,
             "ticks": ""
            },
            "colorscale": [
             [
              0,
              "#0d0887"
             ],
             [
              0.1111111111111111,
              "#46039f"
             ],
             [
              0.2222222222222222,
              "#7201a8"
             ],
             [
              0.3333333333333333,
              "#9c179e"
             ],
             [
              0.4444444444444444,
              "#bd3786"
             ],
             [
              0.5555555555555556,
              "#d8576b"
             ],
             [
              0.6666666666666666,
              "#ed7953"
             ],
             [
              0.7777777777777778,
              "#fb9f3a"
             ],
             [
              0.8888888888888888,
              "#fdca26"
             ],
             [
              1,
              "#f0f921"
             ]
            ],
            "type": "heatmap"
           }
          ],
          "heatmapgl": [
           {
            "colorbar": {
             "outlinewidth": 0,
             "ticks": ""
            },
            "colorscale": [
             [
              0,
              "#0d0887"
             ],
             [
              0.1111111111111111,
              "#46039f"
             ],
             [
              0.2222222222222222,
              "#7201a8"
             ],
             [
              0.3333333333333333,
              "#9c179e"
             ],
             [
              0.4444444444444444,
              "#bd3786"
             ],
             [
              0.5555555555555556,
              "#d8576b"
             ],
             [
              0.6666666666666666,
              "#ed7953"
             ],
             [
              0.7777777777777778,
              "#fb9f3a"
             ],
             [
              0.8888888888888888,
              "#fdca26"
             ],
             [
              1,
              "#f0f921"
             ]
            ],
            "type": "heatmapgl"
           }
          ],
          "histogram": [
           {
            "marker": {
             "pattern": {
              "fillmode": "overlay",
              "size": 10,
              "solidity": 0.2
             }
            },
            "type": "histogram"
           }
          ],
          "histogram2d": [
           {
            "colorbar": {
             "outlinewidth": 0,
             "ticks": ""
            },
            "colorscale": [
             [
              0,
              "#0d0887"
             ],
             [
              0.1111111111111111,
              "#46039f"
             ],
             [
              0.2222222222222222,
              "#7201a8"
             ],
             [
              0.3333333333333333,
              "#9c179e"
             ],
             [
              0.4444444444444444,
              "#bd3786"
             ],
             [
              0.5555555555555556,
              "#d8576b"
             ],
             [
              0.6666666666666666,
              "#ed7953"
             ],
             [
              0.7777777777777778,
              "#fb9f3a"
             ],
             [
              0.8888888888888888,
              "#fdca26"
             ],
             [
              1,
              "#f0f921"
             ]
            ],
            "type": "histogram2d"
           }
          ],
          "histogram2dcontour": [
           {
            "colorbar": {
             "outlinewidth": 0,
             "ticks": ""
            },
            "colorscale": [
             [
              0,
              "#0d0887"
             ],
             [
              0.1111111111111111,
              "#46039f"
             ],
             [
              0.2222222222222222,
              "#7201a8"
             ],
             [
              0.3333333333333333,
              "#9c179e"
             ],
             [
              0.4444444444444444,
              "#bd3786"
             ],
             [
              0.5555555555555556,
              "#d8576b"
             ],
             [
              0.6666666666666666,
              "#ed7953"
             ],
             [
              0.7777777777777778,
              "#fb9f3a"
             ],
             [
              0.8888888888888888,
              "#fdca26"
             ],
             [
              1,
              "#f0f921"
             ]
            ],
            "type": "histogram2dcontour"
           }
          ],
          "mesh3d": [
           {
            "colorbar": {
             "outlinewidth": 0,
             "ticks": ""
            },
            "type": "mesh3d"
           }
          ],
          "parcoords": [
           {
            "line": {
             "colorbar": {
              "outlinewidth": 0,
              "ticks": ""
             }
            },
            "type": "parcoords"
           }
          ],
          "pie": [
           {
            "automargin": true,
            "type": "pie"
           }
          ],
          "scatter": [
           {
            "fillpattern": {
             "fillmode": "overlay",
             "size": 10,
             "solidity": 0.2
            },
            "type": "scatter"
           }
          ],
          "scatter3d": [
           {
            "line": {
             "colorbar": {
              "outlinewidth": 0,
              "ticks": ""
             }
            },
            "marker": {
             "colorbar": {
              "outlinewidth": 0,
              "ticks": ""
             }
            },
            "type": "scatter3d"
           }
          ],
          "scattercarpet": [
           {
            "marker": {
             "colorbar": {
              "outlinewidth": 0,
              "ticks": ""
             }
            },
            "type": "scattercarpet"
           }
          ],
          "scattergeo": [
           {
            "marker": {
             "colorbar": {
              "outlinewidth": 0,
              "ticks": ""
             }
            },
            "type": "scattergeo"
           }
          ],
          "scattergl": [
           {
            "marker": {
             "colorbar": {
              "outlinewidth": 0,
              "ticks": ""
             }
            },
            "type": "scattergl"
           }
          ],
          "scattermapbox": [
           {
            "marker": {
             "colorbar": {
              "outlinewidth": 0,
              "ticks": ""
             }
            },
            "type": "scattermapbox"
           }
          ],
          "scatterpolar": [
           {
            "marker": {
             "colorbar": {
              "outlinewidth": 0,
              "ticks": ""
             }
            },
            "type": "scatterpolar"
           }
          ],
          "scatterpolargl": [
           {
            "marker": {
             "colorbar": {
              "outlinewidth": 0,
              "ticks": ""
             }
            },
            "type": "scatterpolargl"
           }
          ],
          "scatterternary": [
           {
            "marker": {
             "colorbar": {
              "outlinewidth": 0,
              "ticks": ""
             }
            },
            "type": "scatterternary"
           }
          ],
          "surface": [
           {
            "colorbar": {
             "outlinewidth": 0,
             "ticks": ""
            },
            "colorscale": [
             [
              0,
              "#0d0887"
             ],
             [
              0.1111111111111111,
              "#46039f"
             ],
             [
              0.2222222222222222,
              "#7201a8"
             ],
             [
              0.3333333333333333,
              "#9c179e"
             ],
             [
              0.4444444444444444,
              "#bd3786"
             ],
             [
              0.5555555555555556,
              "#d8576b"
             ],
             [
              0.6666666666666666,
              "#ed7953"
             ],
             [
              0.7777777777777778,
              "#fb9f3a"
             ],
             [
              0.8888888888888888,
              "#fdca26"
             ],
             [
              1,
              "#f0f921"
             ]
            ],
            "type": "surface"
           }
          ],
          "table": [
           {
            "cells": {
             "fill": {
              "color": "#EBF0F8"
             },
             "line": {
              "color": "white"
             }
            },
            "header": {
             "fill": {
              "color": "#C8D4E3"
             },
             "line": {
              "color": "white"
             }
            },
            "type": "table"
           }
          ]
         },
         "layout": {
          "annotationdefaults": {
           "arrowcolor": "#2a3f5f",
           "arrowhead": 0,
           "arrowwidth": 1
          },
          "autotypenumbers": "strict",
          "coloraxis": {
           "colorbar": {
            "outlinewidth": 0,
            "ticks": ""
           }
          },
          "colorscale": {
           "diverging": [
            [
             0,
             "#8e0152"
            ],
            [
             0.1,
             "#c51b7d"
            ],
            [
             0.2,
             "#de77ae"
            ],
            [
             0.3,
             "#f1b6da"
            ],
            [
             0.4,
             "#fde0ef"
            ],
            [
             0.5,
             "#f7f7f7"
            ],
            [
             0.6,
             "#e6f5d0"
            ],
            [
             0.7,
             "#b8e186"
            ],
            [
             0.8,
             "#7fbc41"
            ],
            [
             0.9,
             "#4d9221"
            ],
            [
             1,
             "#276419"
            ]
           ],
           "sequential": [
            [
             0,
             "#0d0887"
            ],
            [
             0.1111111111111111,
             "#46039f"
            ],
            [
             0.2222222222222222,
             "#7201a8"
            ],
            [
             0.3333333333333333,
             "#9c179e"
            ],
            [
             0.4444444444444444,
             "#bd3786"
            ],
            [
             0.5555555555555556,
             "#d8576b"
            ],
            [
             0.6666666666666666,
             "#ed7953"
            ],
            [
             0.7777777777777778,
             "#fb9f3a"
            ],
            [
             0.8888888888888888,
             "#fdca26"
            ],
            [
             1,
             "#f0f921"
            ]
           ],
           "sequentialminus": [
            [
             0,
             "#0d0887"
            ],
            [
             0.1111111111111111,
             "#46039f"
            ],
            [
             0.2222222222222222,
             "#7201a8"
            ],
            [
             0.3333333333333333,
             "#9c179e"
            ],
            [
             0.4444444444444444,
             "#bd3786"
            ],
            [
             0.5555555555555556,
             "#d8576b"
            ],
            [
             0.6666666666666666,
             "#ed7953"
            ],
            [
             0.7777777777777778,
             "#fb9f3a"
            ],
            [
             0.8888888888888888,
             "#fdca26"
            ],
            [
             1,
             "#f0f921"
            ]
           ]
          },
          "colorway": [
           "#636efa",
           "#EF553B",
           "#00cc96",
           "#ab63fa",
           "#FFA15A",
           "#19d3f3",
           "#FF6692",
           "#B6E880",
           "#FF97FF",
           "#FECB52"
          ],
          "font": {
           "color": "#2a3f5f"
          },
          "geo": {
           "bgcolor": "white",
           "lakecolor": "white",
           "landcolor": "#E5ECF6",
           "showlakes": true,
           "showland": true,
           "subunitcolor": "white"
          },
          "hoverlabel": {
           "align": "left"
          },
          "hovermode": "closest",
          "mapbox": {
           "style": "light"
          },
          "paper_bgcolor": "white",
          "plot_bgcolor": "#E5ECF6",
          "polar": {
           "angularaxis": {
            "gridcolor": "white",
            "linecolor": "white",
            "ticks": ""
           },
           "bgcolor": "#E5ECF6",
           "radialaxis": {
            "gridcolor": "white",
            "linecolor": "white",
            "ticks": ""
           }
          },
          "scene": {
           "xaxis": {
            "backgroundcolor": "#E5ECF6",
            "gridcolor": "white",
            "gridwidth": 2,
            "linecolor": "white",
            "showbackground": true,
            "ticks": "",
            "zerolinecolor": "white"
           },
           "yaxis": {
            "backgroundcolor": "#E5ECF6",
            "gridcolor": "white",
            "gridwidth": 2,
            "linecolor": "white",
            "showbackground": true,
            "ticks": "",
            "zerolinecolor": "white"
           },
           "zaxis": {
            "backgroundcolor": "#E5ECF6",
            "gridcolor": "white",
            "gridwidth": 2,
            "linecolor": "white",
            "showbackground": true,
            "ticks": "",
            "zerolinecolor": "white"
           }
          },
          "shapedefaults": {
           "line": {
            "color": "#2a3f5f"
           }
          },
          "ternary": {
           "aaxis": {
            "gridcolor": "white",
            "linecolor": "white",
            "ticks": ""
           },
           "baxis": {
            "gridcolor": "white",
            "linecolor": "white",
            "ticks": ""
           },
           "bgcolor": "#E5ECF6",
           "caxis": {
            "gridcolor": "white",
            "linecolor": "white",
            "ticks": ""
           }
          },
          "title": {
           "x": 0.05
          },
          "xaxis": {
           "automargin": true,
           "gridcolor": "white",
           "linecolor": "white",
           "ticks": "",
           "title": {
            "standoff": 15
           },
           "zerolinecolor": "white",
           "zerolinewidth": 2
          },
          "yaxis": {
           "automargin": true,
           "gridcolor": "white",
           "linecolor": "white",
           "ticks": "",
           "title": {
            "standoff": 15
           },
           "zerolinecolor": "white",
           "zerolinewidth": 2
          }
         }
        },
        "width": 1600
       }
      }
     },
     "metadata": {},
     "output_type": "display_data"
    }
   ],
   "source": []
  },
  {
   "cell_type": "code",
   "execution_count": null,
   "metadata": {},
   "outputs": [],
   "source": []
  },
  {
   "cell_type": "code",
   "execution_count": 8,
   "id": "cf6966c3-7455-4bbf-bb95-a401fe7a0eda",
   "metadata": {},
   "outputs": [
    {
     "name": "stderr",
     "output_type": "stream",
     "text": [
      "/Volumes/GitHub/techminer2/techminer2/metrics/collaboration_metrics.py:141: FutureWarning:\n",
      "\n",
      "The provided callable <function sum at 0x112d89af0> is currently using SeriesGroupBy.sum. In a future version of pandas, the provided callable will be used directly. To keep current behavior pass the string \"sum\" instead.\n",
      "\n",
      "/Volumes/GitHub/techminer2/techminer2/metrics/collaboration_metrics.py:141: FutureWarning:\n",
      "\n",
      "The provided callable <function sum at 0x112d89af0> is currently using SeriesGroupBy.sum. In a future version of pandas, the provided callable will be used directly. To keep current behavior pass the string \"sum\" instead.\n",
      "\n"
     ]
    },
    {
     "data": {
      "application/vnd.plotly.v1+json": {
       "config": {
        "plotlyServerURL": "https://plot.ly"
       },
       "data": [
        {
         "alignmentgroup": "True",
         "hovertemplate": "publication=Single Publication<br>Num Documents=%{x}<br>countries=%{y}<extra></extra>",
         "legendgroup": "Single Publication",
         "marker": {
          "color": "#7793a5",
          "pattern": {
           "shape": ""
          }
         },
         "name": "Single Publication",
         "offsetgroup": "Single Publication",
         "orientation": "h",
         "showlegend": true,
         "textposition": "auto",
         "type": "bar",
         "x": [
          110,
          65,
          22,
          11,
          8,
          11,
          8,
          2,
          10,
          3,
          6,
          8,
          3,
          5,
          6,
          6,
          3,
          7,
          1,
          4
         ],
         "xaxis": "x",
         "y": [
          "India",
          "United States",
          "Germany",
          "United Kingdom",
          "Australia",
          "Netherlands",
          "Italy",
          "China",
          "Canada",
          "Switzerland",
          "Spain",
          "Indonesia",
          "France",
          "Denmark",
          "Israel",
          "Ireland",
          "Japan",
          "United Arab Emirates",
          "Austria",
          "Belgium"
         ],
         "yaxis": "y"
        },
        {
         "alignmentgroup": "True",
         "hovertemplate": "publication=Multiple Publication<br>Num Documents=%{x}<br>countries=%{y}<extra></extra>",
         "legendgroup": "Multiple Publication",
         "marker": {
          "color": "#465c6b",
          "pattern": {
           "shape": ""
          }
         },
         "name": "Multiple Publication",
         "offsetgroup": "Multiple Publication",
         "orientation": "h",
         "showlegend": true,
         "textposition": "auto",
         "type": "bar",
         "x": [
          10,
          24,
          11,
          21,
          13,
          8,
          4,
          10,
          2,
          6,
          3,
          1,
          5,
          3,
          2,
          2,
          5,
          0,
          6,
          2
         ],
         "xaxis": "x",
         "y": [
          "India",
          "United States",
          "Germany",
          "United Kingdom",
          "Australia",
          "Netherlands",
          "Italy",
          "China",
          "Canada",
          "Switzerland",
          "Spain",
          "Indonesia",
          "France",
          "Denmark",
          "Israel",
          "Ireland",
          "Japan",
          "United Arab Emirates",
          "Austria",
          "Belgium"
         ],
         "yaxis": "y"
        }
       ],
       "layout": {
        "barmode": "relative",
        "legend": {
         "title": {
          "text": "publication"
         },
         "tracegroupgap": 0
        },
        "paper_bgcolor": "white",
        "plot_bgcolor": "white",
        "template": {
         "data": {
          "bar": [
           {
            "error_x": {
             "color": "#2a3f5f"
            },
            "error_y": {
             "color": "#2a3f5f"
            },
            "marker": {
             "line": {
              "color": "#E5ECF6",
              "width": 0.5
             },
             "pattern": {
              "fillmode": "overlay",
              "size": 10,
              "solidity": 0.2
             }
            },
            "type": "bar"
           }
          ],
          "barpolar": [
           {
            "marker": {
             "line": {
              "color": "#E5ECF6",
              "width": 0.5
             },
             "pattern": {
              "fillmode": "overlay",
              "size": 10,
              "solidity": 0.2
             }
            },
            "type": "barpolar"
           }
          ],
          "carpet": [
           {
            "aaxis": {
             "endlinecolor": "#2a3f5f",
             "gridcolor": "white",
             "linecolor": "white",
             "minorgridcolor": "white",
             "startlinecolor": "#2a3f5f"
            },
            "baxis": {
             "endlinecolor": "#2a3f5f",
             "gridcolor": "white",
             "linecolor": "white",
             "minorgridcolor": "white",
             "startlinecolor": "#2a3f5f"
            },
            "type": "carpet"
           }
          ],
          "choropleth": [
           {
            "colorbar": {
             "outlinewidth": 0,
             "ticks": ""
            },
            "type": "choropleth"
           }
          ],
          "contour": [
           {
            "colorbar": {
             "outlinewidth": 0,
             "ticks": ""
            },
            "colorscale": [
             [
              0,
              "#0d0887"
             ],
             [
              0.1111111111111111,
              "#46039f"
             ],
             [
              0.2222222222222222,
              "#7201a8"
             ],
             [
              0.3333333333333333,
              "#9c179e"
             ],
             [
              0.4444444444444444,
              "#bd3786"
             ],
             [
              0.5555555555555556,
              "#d8576b"
             ],
             [
              0.6666666666666666,
              "#ed7953"
             ],
             [
              0.7777777777777778,
              "#fb9f3a"
             ],
             [
              0.8888888888888888,
              "#fdca26"
             ],
             [
              1,
              "#f0f921"
             ]
            ],
            "type": "contour"
           }
          ],
          "contourcarpet": [
           {
            "colorbar": {
             "outlinewidth": 0,
             "ticks": ""
            },
            "type": "contourcarpet"
           }
          ],
          "heatmap": [
           {
            "colorbar": {
             "outlinewidth": 0,
             "ticks": ""
            },
            "colorscale": [
             [
              0,
              "#0d0887"
             ],
             [
              0.1111111111111111,
              "#46039f"
             ],
             [
              0.2222222222222222,
              "#7201a8"
             ],
             [
              0.3333333333333333,
              "#9c179e"
             ],
             [
              0.4444444444444444,
              "#bd3786"
             ],
             [
              0.5555555555555556,
              "#d8576b"
             ],
             [
              0.6666666666666666,
              "#ed7953"
             ],
             [
              0.7777777777777778,
              "#fb9f3a"
             ],
             [
              0.8888888888888888,
              "#fdca26"
             ],
             [
              1,
              "#f0f921"
             ]
            ],
            "type": "heatmap"
           }
          ],
          "heatmapgl": [
           {
            "colorbar": {
             "outlinewidth": 0,
             "ticks": ""
            },
            "colorscale": [
             [
              0,
              "#0d0887"
             ],
             [
              0.1111111111111111,
              "#46039f"
             ],
             [
              0.2222222222222222,
              "#7201a8"
             ],
             [
              0.3333333333333333,
              "#9c179e"
             ],
             [
              0.4444444444444444,
              "#bd3786"
             ],
             [
              0.5555555555555556,
              "#d8576b"
             ],
             [
              0.6666666666666666,
              "#ed7953"
             ],
             [
              0.7777777777777778,
              "#fb9f3a"
             ],
             [
              0.8888888888888888,
              "#fdca26"
             ],
             [
              1,
              "#f0f921"
             ]
            ],
            "type": "heatmapgl"
           }
          ],
          "histogram": [
           {
            "marker": {
             "pattern": {
              "fillmode": "overlay",
              "size": 10,
              "solidity": 0.2
             }
            },
            "type": "histogram"
           }
          ],
          "histogram2d": [
           {
            "colorbar": {
             "outlinewidth": 0,
             "ticks": ""
            },
            "colorscale": [
             [
              0,
              "#0d0887"
             ],
             [
              0.1111111111111111,
              "#46039f"
             ],
             [
              0.2222222222222222,
              "#7201a8"
             ],
             [
              0.3333333333333333,
              "#9c179e"
             ],
             [
              0.4444444444444444,
              "#bd3786"
             ],
             [
              0.5555555555555556,
              "#d8576b"
             ],
             [
              0.6666666666666666,
              "#ed7953"
             ],
             [
              0.7777777777777778,
              "#fb9f3a"
             ],
             [
              0.8888888888888888,
              "#fdca26"
             ],
             [
              1,
              "#f0f921"
             ]
            ],
            "type": "histogram2d"
           }
          ],
          "histogram2dcontour": [
           {
            "colorbar": {
             "outlinewidth": 0,
             "ticks": ""
            },
            "colorscale": [
             [
              0,
              "#0d0887"
             ],
             [
              0.1111111111111111,
              "#46039f"
             ],
             [
              0.2222222222222222,
              "#7201a8"
             ],
             [
              0.3333333333333333,
              "#9c179e"
             ],
             [
              0.4444444444444444,
              "#bd3786"
             ],
             [
              0.5555555555555556,
              "#d8576b"
             ],
             [
              0.6666666666666666,
              "#ed7953"
             ],
             [
              0.7777777777777778,
              "#fb9f3a"
             ],
             [
              0.8888888888888888,
              "#fdca26"
             ],
             [
              1,
              "#f0f921"
             ]
            ],
            "type": "histogram2dcontour"
           }
          ],
          "mesh3d": [
           {
            "colorbar": {
             "outlinewidth": 0,
             "ticks": ""
            },
            "type": "mesh3d"
           }
          ],
          "parcoords": [
           {
            "line": {
             "colorbar": {
              "outlinewidth": 0,
              "ticks": ""
             }
            },
            "type": "parcoords"
           }
          ],
          "pie": [
           {
            "automargin": true,
            "type": "pie"
           }
          ],
          "scatter": [
           {
            "fillpattern": {
             "fillmode": "overlay",
             "size": 10,
             "solidity": 0.2
            },
            "type": "scatter"
           }
          ],
          "scatter3d": [
           {
            "line": {
             "colorbar": {
              "outlinewidth": 0,
              "ticks": ""
             }
            },
            "marker": {
             "colorbar": {
              "outlinewidth": 0,
              "ticks": ""
             }
            },
            "type": "scatter3d"
           }
          ],
          "scattercarpet": [
           {
            "marker": {
             "colorbar": {
              "outlinewidth": 0,
              "ticks": ""
             }
            },
            "type": "scattercarpet"
           }
          ],
          "scattergeo": [
           {
            "marker": {
             "colorbar": {
              "outlinewidth": 0,
              "ticks": ""
             }
            },
            "type": "scattergeo"
           }
          ],
          "scattergl": [
           {
            "marker": {
             "colorbar": {
              "outlinewidth": 0,
              "ticks": ""
             }
            },
            "type": "scattergl"
           }
          ],
          "scattermapbox": [
           {
            "marker": {
             "colorbar": {
              "outlinewidth": 0,
              "ticks": ""
             }
            },
            "type": "scattermapbox"
           }
          ],
          "scatterpolar": [
           {
            "marker": {
             "colorbar": {
              "outlinewidth": 0,
              "ticks": ""
             }
            },
            "type": "scatterpolar"
           }
          ],
          "scatterpolargl": [
           {
            "marker": {
             "colorbar": {
              "outlinewidth": 0,
              "ticks": ""
             }
            },
            "type": "scatterpolargl"
           }
          ],
          "scatterternary": [
           {
            "marker": {
             "colorbar": {
              "outlinewidth": 0,
              "ticks": ""
             }
            },
            "type": "scatterternary"
           }
          ],
          "surface": [
           {
            "colorbar": {
             "outlinewidth": 0,
             "ticks": ""
            },
            "colorscale": [
             [
              0,
              "#0d0887"
             ],
             [
              0.1111111111111111,
              "#46039f"
             ],
             [
              0.2222222222222222,
              "#7201a8"
             ],
             [
              0.3333333333333333,
              "#9c179e"
             ],
             [
              0.4444444444444444,
              "#bd3786"
             ],
             [
              0.5555555555555556,
              "#d8576b"
             ],
             [
              0.6666666666666666,
              "#ed7953"
             ],
             [
              0.7777777777777778,
              "#fb9f3a"
             ],
             [
              0.8888888888888888,
              "#fdca26"
             ],
             [
              1,
              "#f0f921"
             ]
            ],
            "type": "surface"
           }
          ],
          "table": [
           {
            "cells": {
             "fill": {
              "color": "#EBF0F8"
             },
             "line": {
              "color": "white"
             }
            },
            "header": {
             "fill": {
              "color": "#C8D4E3"
             },
             "line": {
              "color": "white"
             }
            },
            "type": "table"
           }
          ]
         },
         "layout": {
          "annotationdefaults": {
           "arrowcolor": "#2a3f5f",
           "arrowhead": 0,
           "arrowwidth": 1
          },
          "autotypenumbers": "strict",
          "coloraxis": {
           "colorbar": {
            "outlinewidth": 0,
            "ticks": ""
           }
          },
          "colorscale": {
           "diverging": [
            [
             0,
             "#8e0152"
            ],
            [
             0.1,
             "#c51b7d"
            ],
            [
             0.2,
             "#de77ae"
            ],
            [
             0.3,
             "#f1b6da"
            ],
            [
             0.4,
             "#fde0ef"
            ],
            [
             0.5,
             "#f7f7f7"
            ],
            [
             0.6,
             "#e6f5d0"
            ],
            [
             0.7,
             "#b8e186"
            ],
            [
             0.8,
             "#7fbc41"
            ],
            [
             0.9,
             "#4d9221"
            ],
            [
             1,
             "#276419"
            ]
           ],
           "sequential": [
            [
             0,
             "#0d0887"
            ],
            [
             0.1111111111111111,
             "#46039f"
            ],
            [
             0.2222222222222222,
             "#7201a8"
            ],
            [
             0.3333333333333333,
             "#9c179e"
            ],
            [
             0.4444444444444444,
             "#bd3786"
            ],
            [
             0.5555555555555556,
             "#d8576b"
            ],
            [
             0.6666666666666666,
             "#ed7953"
            ],
            [
             0.7777777777777778,
             "#fb9f3a"
            ],
            [
             0.8888888888888888,
             "#fdca26"
            ],
            [
             1,
             "#f0f921"
            ]
           ],
           "sequentialminus": [
            [
             0,
             "#0d0887"
            ],
            [
             0.1111111111111111,
             "#46039f"
            ],
            [
             0.2222222222222222,
             "#7201a8"
            ],
            [
             0.3333333333333333,
             "#9c179e"
            ],
            [
             0.4444444444444444,
             "#bd3786"
            ],
            [
             0.5555555555555556,
             "#d8576b"
            ],
            [
             0.6666666666666666,
             "#ed7953"
            ],
            [
             0.7777777777777778,
             "#fb9f3a"
            ],
            [
             0.8888888888888888,
             "#fdca26"
            ],
            [
             1,
             "#f0f921"
            ]
           ]
          },
          "colorway": [
           "#636efa",
           "#EF553B",
           "#00cc96",
           "#ab63fa",
           "#FFA15A",
           "#19d3f3",
           "#FF6692",
           "#B6E880",
           "#FF97FF",
           "#FECB52"
          ],
          "font": {
           "color": "#2a3f5f"
          },
          "geo": {
           "bgcolor": "white",
           "lakecolor": "white",
           "landcolor": "#E5ECF6",
           "showlakes": true,
           "showland": true,
           "subunitcolor": "white"
          },
          "hoverlabel": {
           "align": "left"
          },
          "hovermode": "closest",
          "mapbox": {
           "style": "light"
          },
          "paper_bgcolor": "white",
          "plot_bgcolor": "#E5ECF6",
          "polar": {
           "angularaxis": {
            "gridcolor": "white",
            "linecolor": "white",
            "ticks": ""
           },
           "bgcolor": "#E5ECF6",
           "radialaxis": {
            "gridcolor": "white",
            "linecolor": "white",
            "ticks": ""
           }
          },
          "scene": {
           "xaxis": {
            "backgroundcolor": "#E5ECF6",
            "gridcolor": "white",
            "gridwidth": 2,
            "linecolor": "white",
            "showbackground": true,
            "ticks": "",
            "zerolinecolor": "white"
           },
           "yaxis": {
            "backgroundcolor": "#E5ECF6",
            "gridcolor": "white",
            "gridwidth": 2,
            "linecolor": "white",
            "showbackground": true,
            "ticks": "",
            "zerolinecolor": "white"
           },
           "zaxis": {
            "backgroundcolor": "#E5ECF6",
            "gridcolor": "white",
            "gridwidth": 2,
            "linecolor": "white",
            "showbackground": true,
            "ticks": "",
            "zerolinecolor": "white"
           }
          },
          "shapedefaults": {
           "line": {
            "color": "#2a3f5f"
           }
          },
          "ternary": {
           "aaxis": {
            "gridcolor": "white",
            "linecolor": "white",
            "ticks": ""
           },
           "baxis": {
            "gridcolor": "white",
            "linecolor": "white",
            "ticks": ""
           },
           "bgcolor": "#E5ECF6",
           "caxis": {
            "gridcolor": "white",
            "linecolor": "white",
            "ticks": ""
           }
          },
          "title": {
           "x": 0.05
          },
          "xaxis": {
           "automargin": true,
           "gridcolor": "white",
           "linecolor": "white",
           "ticks": "",
           "title": {
            "standoff": 15
           },
           "zerolinecolor": "white",
           "zerolinewidth": 2
          },
          "yaxis": {
           "automargin": true,
           "gridcolor": "white",
           "linecolor": "white",
           "ticks": "",
           "title": {
            "standoff": 15
           },
           "zerolinecolor": "white",
           "zerolinewidth": 2
          }
         }
        },
        "title": {
         "text": "Corresponding Author's Countries"
        },
        "xaxis": {
         "anchor": "y",
         "domain": [
          0,
          1
         ],
         "gridcolor": "gray",
         "griddash": "dot",
         "linecolor": "gray",
         "linewidth": 2,
         "title": {
          "text": "Num Documents"
         }
        },
        "yaxis": {
         "anchor": "x",
         "autorange": "reversed",
         "domain": [
          0,
          1
         ],
         "linecolor": "gray",
         "linewidth": 2,
         "title": {
          "text": "countries"
         }
        }
       }
      }
     },
     "metadata": {},
     "output_type": "display_data"
    }
   ],
   "source": [
    "from techminer2.metrics.collaboration_metrics import collaboration_metrics\n",
    "metrics = collaboration_metrics(\n",
    "    #\n",
    "    # PARAMS:\n",
    "    field=\"countries\",\n",
    "    #\n",
    "    # ITEM FILTERS:\n",
    "    top_n=20,\n",
    "    occ_range=(None, None),\n",
    "    gc_range=(None, None),\n",
    "    custom_items=None,\n",
    "    #\n",
    "    # DATABASE PARAMS:\n",
    "    root_dir=\"./\",\n",
    "    database=\"main\",\n",
    "    year_filter=(None, None),\n",
    "    cited_by_filter=(None, None),\n",
    ")\n",
    "metrics.fig_"
   ]
  },
  {
   "cell_type": "code",
   "execution_count": 15,
   "id": "dc07599f-dc67-43e1-9b49-5c0d0f08b7b4",
   "metadata": {},
   "outputs": [
    {
     "name": "stdout",
     "output_type": "stream",
     "text": [
      "| countries      |   rank_occ |   OCC |\n",
      "|:---------------|-----------:|------:|\n",
      "| United Kingdom |          1 |    32 |\n",
      "| Australia      |          2 |     4 |\n",
      "| Germany        |          3 |     4 |\n",
      "| Netherlands    |          4 |     3 |\n",
      "| France         |          5 |     2 |\n",
      "| Italy          |          6 |     2 |\n",
      "| United States  |          7 |     2 |\n",
      "| India          |          8 |     2 |\n",
      "| Austria        |          9 |     2 |\n",
      "| Cyprus         |         10 |     1 |\n",
      "| Pakistan       |         11 |     1 |\n",
      "| Portugal       |         12 |     1 |\n",
      "| Switzerland    |         13 |     1 |\n",
      "| Israel         |         14 |     1 |\n",
      "| Ireland        |         15 |     1 |\n",
      "| Bahrain        |         16 |     1 |\n",
      "| Jordan         |         17 |     1 |\n",
      "| Oman           |         18 |     1 |\n",
      "| Palestine      |         19 |     1 |\n",
      "| Saudi Arabia   |         20 |     1 |\n"
     ]
    },
    {
     "name": "stderr",
     "output_type": "stream",
     "text": [
      "/Volumes/GitHub/techminer2/techminer2/read_records.py:220: SettingWithCopyWarning:\n",
      "\n",
      "\n",
      "A value is trying to be set on a copy of a slice from a DataFrame.\n",
      "Try using .loc[row_indexer,col_indexer] = value instead\n",
      "\n",
      "See the caveats in the documentation: https://pandas.pydata.org/pandas-docs/stable/user_guide/indexing.html#returning-a-view-versus-a-copy\n",
      "\n"
     ]
    }
   ],
   "source": [
    "from techminer2.metrics import performance_metrics\n",
    "\n",
    "metrics = performance_metrics(\n",
    "    field='countries',\n",
    "    #\n",
    "    # FILTER PARAMS:\n",
    "    metric='OCC',\n",
    "    top_n=20,\n",
    "    occ_range=(None, None),\n",
    "    gc_range=(None, None),\n",
    "    custom_items=None,\n",
    "    #\n",
    "    # DATABASE PARAMS:\n",
    "    root_dir=\"./\",\n",
    "    database=\"main\",\n",
    "    year_filter=(2014, 2023),\n",
    "    cited_by_filter=(None, None),\n",
    "    countries=[\"United Kingdom\"],\n",
    ")\n",
    "print(metrics.df_.to_markdown())"
   ]
  },
  {
   "cell_type": "markdown",
   "id": "f5176b60-e620-4d73-af65-a6eac88c8164",
   "metadata": {},
   "source": [
    "---"
   ]
  },
  {
   "cell_type": "code",
   "execution_count": 17,
   "id": "b98414a6-1c46-4f42-94bc-935f5f22d559",
   "metadata": {},
   "outputs": [
    {
     "name": "stdout",
     "output_type": "stream",
     "text": [
      "| abbr_source_title                  |   rank_occ |   rank_gcs |   rank_lcs |   OCC |   global_citations |   local_citations |   h_index |   g_index |   m_index |\n",
      "|:-----------------------------------|-----------:|-----------:|-----------:|------:|-------------------:|------------------:|----------:|----------:|----------:|\n",
      "| J. Organ. Eff. People  Perform.    |          1 |          2 |          1 |    11 |                406 |               222 |         9 |         6 |      0.9  |\n",
      "| Hum. Resour. Manage. J.            |          2 |          3 |          3 |    10 |                374 |               155 |         7 |         3 |      0.88 |\n",
      "| Hum. Resour. Manage. Int. Dig.     |          3 |          6 |         10 |    10 |                231 |                22 |         5 |         3 |      0.56 |\n",
      "| Pers. Rev.                         |          4 |          8 |          6 |    10 |                179 |                57 |         6 |         4 |      1.2  |\n",
      "| Lect. Notes Comput. Sci.           |          5 |         60 |         38 |     9 |                 17 |                 5 |         2 |         2 |      0.25 |\n",
      "| Hum. Resour. Manage.               |          6 |          4 |          4 |     8 |                288 |               121 |         6 |         5 |      1    |\n",
      "| HR Anal. in an Era of Rapid Autom. |          7 |        228 |        228 |     8 |                  0 |                 0 |         0 |         0 |      0    |\n",
      "| Int. J. Hum. Resour. Manage.       |          8 |          1 |          2 |     7 |                567 |               191 |         6 |         4 |      0.86 |\n",
      "| Int. J. Organ. Anal.               |          9 |         30 |         26 |     5 |                 52 |                 8 |         2 |         2 |      0.5  |\n",
      "| Lect. Notes Networks Syst.         |         10 |        199 |        202 |     5 |                  1 |                 0 |         1 |         1 |      0.5  |\n",
      "| Bus. Horiz.                        |         12 |          7 |          7 |     4 |                180 |                48 |         4 |         3 |      0.67 |\n",
      "| J. Bus. Res.                       |         13 |          9 |          9 |     3 |                179 |                26 |         3 |         3 |      0.43 |\n",
      "| Organ. Dyn.                        |         28 |         10 |          5 |     2 |                153 |                82 |         2 |         1 |      0.22 |\n",
      "| Pers. Psychol.                     |         71 |          5 |         44 |     1 |                274 |                 4 |         1 |         1 |      0.1  |\n"
     ]
    }
   ],
   "source": [
    "from techminer2.metrics import performance_metrics\n",
    "\n",
    "metrics = performance_metrics(\n",
    "    field='abbr_source_title',\n",
    "    #\n",
    "    # FILTER PARAMS:\n",
    "    metric='OCCGC',\n",
    "    top_n=10,\n",
    "    occ_range=(None, None),\n",
    "    gc_range=(None, None),\n",
    "    custom_items=None,\n",
    "    #\n",
    "    # DATABASE PARAMS:\n",
    "    root_dir=\"./\",\n",
    "    database=\"main\",\n",
    "    year_filter=(2014, 2023),\n",
    "    cited_by_filter=(None, None),\n",
    ")\n",
    "print(metrics.df_.to_markdown())"
   ]
  },
  {
   "cell_type": "code",
   "execution_count": 18,
   "metadata": {},
   "outputs": [],
   "source": [
    "table = metrics.df_.copy()\n",
    "table.to_csv('tables/sources.csv', sep='\\t')"
   ]
  },
  {
   "cell_type": "code",
   "execution_count": 19,
   "metadata": {},
   "outputs": [
    {
     "name": "stdout",
     "output_type": "stream",
     "text": [
      "Your task is to generate an analysis about the bibliometric indicators of \\\n",
      "the 'abbr_source_title' field in a scientific bibliography database. \\\n",
      "Summarize the table below, sorted by the 'OCC' metric, and delimited by \\\n",
      "triple backticks, identify any notable patterns, trends, or outliers in \\\n",
      "the data, and discuss their implications for the research field. Be sure \\\n",
      "to provide a concise summary of your findings in no more than 150 words.\n",
      "\n",
      "Table:\n",
      "```\n",
      "| abbr_source_title                  |   rank_occ |   rank_gcs |   rank_lcs |   OCC |   global_citations |   local_citations |   h_index |   g_index |   m_index |\n",
      "|:-----------------------------------|-----------:|-----------:|-----------:|------:|-------------------:|------------------:|----------:|----------:|----------:|\n",
      "| J. Organ. Eff. People  Perform.    |          1 |          2 |          1 |    11 |                406 |               222 |         9 |         6 |      0.9  |\n",
      "| Hum. Resour. Manage. J.            |          2 |          3 |          3 |    10 |                374 |               155 |         7 |         3 |      0.88 |\n",
      "| Hum. Resour. Manage. Int. Dig.     |          3 |          6 |         10 |    10 |                231 |                22 |         5 |         3 |      0.56 |\n",
      "| Pers. Rev.                         |          4 |          8 |          6 |    10 |                179 |                57 |         6 |         4 |      1.2  |\n",
      "| Lect. Notes Comput. Sci.           |          5 |         60 |         38 |     9 |                 17 |                 5 |         2 |         2 |      0.25 |\n",
      "| Hum. Resour. Manage.               |          6 |          4 |          4 |     8 |                288 |               121 |         6 |         5 |      1    |\n",
      "| HR Anal. in an Era of Rapid Autom. |          7 |        228 |        228 |     8 |                  0 |                 0 |         0 |         0 |      0    |\n",
      "| Int. J. Hum. Resour. Manage.       |          8 |          1 |          2 |     7 |                567 |               191 |         6 |         4 |      0.86 |\n",
      "| Int. J. Organ. Anal.               |          9 |         30 |         26 |     5 |                 52 |                 8 |         2 |         2 |      0.5  |\n",
      "| Lect. Notes Networks Syst.         |         10 |        199 |        202 |     5 |                  1 |                 0 |         1 |         1 |      0.5  |\n",
      "| Bus. Horiz.                        |         12 |          7 |          7 |     4 |                180 |                48 |         4 |         3 |      0.67 |\n",
      "| J. Bus. Res.                       |         13 |          9 |          9 |     3 |                179 |                26 |         3 |         3 |      0.43 |\n",
      "| Organ. Dyn.                        |         28 |         10 |          5 |     2 |                153 |                82 |         2 |         1 |      0.22 |\n",
      "| Pers. Psychol.                     |         71 |          5 |         44 |     1 |                274 |                 4 |         1 |         1 |      0.1  |\n",
      "```\n",
      "\n"
     ]
    }
   ],
   "source": [
    "print(metrics.prompt_)"
   ]
  },
  {
   "cell_type": "code",
   "execution_count": 20,
   "metadata": {},
   "outputs": [
    {
     "name": "stdout",
     "output_type": "stream",
     "text": [
      "| source_title                                                                                                                         |   rank_occ |   rank_gcs |   rank_lcs |   OCC |   global_citations |   local_citations |   h_index |   g_index |   m_index |\n",
      "|:-------------------------------------------------------------------------------------------------------------------------------------|-----------:|-----------:|-----------:|------:|-------------------:|------------------:|----------:|----------:|----------:|\n",
      "| Journal of Organizational Effectiveness                                                                                              |          1 |          2 |          1 |    11 |                406 |               222 |         9 |         6 |      0.9  |\n",
      "| Human Resource Management Journal                                                                                                    |          2 |          3 |          3 |    10 |                374 |               155 |         7 |         3 |      0.88 |\n",
      "| Human Resource Management International Digest                                                                                       |          3 |          6 |         10 |    10 |                231 |                22 |         5 |         3 |      0.56 |\n",
      "| Personnel Review                                                                                                                     |          4 |          8 |          6 |    10 |                179 |                57 |         6 |         4 |      1.2  |\n",
      "| Lecture Notes in Computer Science (including subseries Lecture Notes in Artificial Intelligence and Lecture Notes in Bioinformatics) |          5 |         60 |         38 |     9 |                 17 |                 5 |         2 |         2 |      0.25 |\n",
      "| Human Resource Management                                                                                                            |          6 |          4 |          4 |     8 |                288 |               121 |         6 |         5 |      1    |\n",
      "| HR Analytics in an Era of Rapid Automation                                                                                           |          7 |        230 |        230 |     8 |                  0 |                 0 |         0 |         0 |      0    |\n",
      "| International Journal of Human Resource Management                                                                                   |          8 |          1 |          2 |     7 |                567 |               191 |         6 |         4 |      0.86 |\n",
      "| International Journal of Organizational Analysis                                                                                     |          9 |         30 |         26 |     5 |                 52 |                 8 |         2 |         2 |      0.5  |\n",
      "| Lecture Notes in Networks and Systems                                                                                                |         10 |        200 |        203 |     5 |                  1 |                 0 |         1 |         1 |      0.5  |\n",
      "| International Conference on Operations Research and Enterprise Systems                                                               |         11 |        228 |        143 |     5 |                  0 |                 1 |         0 |         0 |      0    |\n",
      "| Business Horizons                                                                                                                    |         12 |          7 |          7 |     4 |                180 |                48 |         4 |         3 |      0.67 |\n",
      "| Journal of Business Research                                                                                                         |         13 |          9 |          9 |     3 |                179 |                26 |         3 |         3 |      0.43 |\n",
      "| Human Resource Management Review                                                                                                     |         14 |         24 |         19 |     3 |                 64 |                13 |         1 |         1 |      0.5  |\n",
      "| IEEE Transactions on Knowledge and Data Engineering                                                                                  |         15 |         32 |         32 |     3 |                 43 |                 6 |         3 |         2 |      0.6  |\n",
      "| International Journal of Manpower                                                                                                    |         16 |         38 |         25 |     3 |                 34 |                 9 |         2 |         2 |      1    |\n",
      "| McKinsey Quarterly                                                                                                                   |         17 |         39 |         33 |     3 |                 33 |                 6 |         2 |         2 |      0.22 |\n",
      "| International Journal of Advanced Trends in Computer Science and Engineering                                                         |         18 |         42 |        149 |     3 |                 31 |                 0 |         3 |         2 |      0.6  |\n",
      "| Procedia Computer Science                                                                                                            |         19 |         47 |         95 |     3 |                 23 |                 1 |         2 |         2 |      0.22 |\n",
      "| International Journal on Emerging Technologies                                                                                       |         20 |         53 |         23 |     3 |                 20 |                11 |         3 |         2 |      0.6  |\n",
      "| Organizational Dynamics                                                                                                              |         27 |         10 |          5 |     2 |                153 |                82 |         2 |         1 |      0.22 |\n",
      "| Decision Support Systems                                                                                                             |         28 |         17 |         11 |     2 |                 80 |                20 |         2 |         2 |      0.5  |\n",
      "| Proceedings of the ACM SIGKDD International Conference on Knowledge Discovery and Data Mining                                        |         29 |         19 |         18 |     2 |                 79 |                13 |         2 |         2 |      0.2  |\n",
      "| Personnel Psychology                                                                                                                 |         69 |          5 |         44 |     1 |                274 |                 4 |         1 |         1 |      0.1  |\n",
      "| California Law Review                                                                                                                |         70 |         11 |         28 |     1 |                129 |                 7 |         1 |         1 |      0.14 |\n",
      "| Organizational Behavior and Human Decision Processes                                                                                 |         71 |         12 |         56 |     1 |                129 |                 3 |         1 |         1 |      0.25 |\n",
      "| Information and Organization                                                                                                         |         72 |         13 |         12 |     1 |                105 |                18 |         1 |         1 |      0.25 |\n",
      "| Business Research                                                                                                                    |         73 |         14 |        145 |     1 |                 95 |                 0 |         1 |         1 |      0.25 |\n",
      "| International Journal of Information Management                                                                                      |         74 |         15 |        146 |     1 |                 93 |                 0 |         1 |         1 |      0.17 |\n",
      "| Journal of Business and Psychology                                                                                                   |         75 |         16 |         92 |     1 |                 81 |                 1 |         1 |         1 |      0.11 |\n",
      "| BRQ Business Research Quarterly                                                                                                      |         76 |         18 |        147 |     1 |                 80 |                 0 |         1 |         1 |      0.2  |\n",
      "| Organizational Research Methods                                                                                                      |         77 |         20 |         93 |     1 |                 71 |                 1 |         1 |         1 |      0.5  |\n"
     ]
    }
   ],
   "source": [
    "metrics = performance_metrics(\n",
    "    field='source_title',\n",
    "    #\n",
    "    # FILTER PARAMS:\n",
    "    metric='OCCGC',\n",
    "    top_n=20,\n",
    "    occ_range=(None, None),\n",
    "    gc_range=(None, None),\n",
    "    custom_items=None,\n",
    "    #\n",
    "    # DATABASE PARAMS:\n",
    "    root_dir=\"./\",\n",
    "    database=\"main\",\n",
    "    year_filter=(2014, 2023),\n",
    "    cited_by_filter=(None, None),\n",
    ")\n",
    "print(metrics.df_.to_markdown())"
   ]
  }
 ],
 "metadata": {
  "kernelspec": {
   "display_name": "Python 3 (ipykernel)",
   "language": "python",
   "name": "python3"
  },
  "language_info": {
   "codemirror_mode": {
    "name": "ipython",
    "version": 3
   },
   "file_extension": ".py",
   "mimetype": "text/x-python",
   "name": "python",
   "nbconvert_exporter": "python",
   "pygments_lexer": "ipython3",
   "version": "3.9.6"
  }
 },
 "nbformat": 4,
 "nbformat_minor": 5
}
