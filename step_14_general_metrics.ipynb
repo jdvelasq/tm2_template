{
 "cells": [
  {
   "cell_type": "code",
   "execution_count": 1,
   "id": "f6193ab4-0670-40c5-b1a9-d201ef8b1d37",
   "metadata": {},
   "outputs": [
    {
     "name": "stdout",
     "output_type": "stream",
     "text": [
      "Your task is to generate a short summary for a research paper of a table \\\n",
      "with record and field statistics for a dataset of scientific \\\n",
      "publications. The table below, delimited by triple backticks, provides \\\n",
      "data on the main characteristics of the records and fields of the \\\n",
      "bibliographic dataset. Use the the information in the table to draw \\\n",
      "conclusions. Limit your description to one paragraph in at most 100 \\\n",
      "words.\n",
      "\n",
      "Table:\n",
      "```\n",
      "|                                                        | Value     |\n",
      "|:-------------------------------------------------------|:----------|\n",
      "| ('GENERAL', 'Timespan')                                | 2009:2024 |\n",
      "| ('GENERAL', 'Documents')                               | 4000      |\n",
      "| ('GENERAL', 'Annual growth rate %')                    | 30.43     |\n",
      "| ('GENERAL', 'Document average age')                    | 6.24      |\n",
      "| ('GENERAL', 'Average citations per document')          | 9.26      |\n",
      "| ('GENERAL', 'Average citations per document per year') | 0.58      |\n",
      "| ('GENERAL', 'Sources')                                 | 1843      |\n",
      "| ('GENERAL', 'Average documents per source')            | 2.17      |\n",
      "| ('DOCUMENT TYPES', 'Article')                          | 1435      |\n",
      "| ('DOCUMENT TYPES', 'Book')                             | 51        |\n",
      "| ('DOCUMENT TYPES', 'Book chapter')                     | 271       |\n",
      "| ('DOCUMENT TYPES', 'Conference paper')                 | 2063      |\n",
      "| ('DOCUMENT TYPES', 'Conference review')                | 43        |\n",
      "| ('DOCUMENT TYPES', 'Editorial')                        | 61        |\n",
      "| ('DOCUMENT TYPES', 'Erratum')                          | 4         |\n",
      "| ('DOCUMENT TYPES', 'Letter')                           | 2         |\n",
      "| ('DOCUMENT TYPES', 'Note')                             | 7         |\n",
      "| ('DOCUMENT TYPES', 'Retracted')                        | 2         |\n",
      "| ('DOCUMENT TYPES', 'Review')                           | 54        |\n",
      "| ('DOCUMENT TYPES', 'Short survey')                     | 7         |\n",
      "| ('AUTHORS', 'Authors')                                 | 8425      |\n",
      "| ('AUTHORS', 'Authors of single-authored documents')    | 492       |\n",
      "| ('AUTHORS', 'Single-authored documents')               | 625       |\n",
      "| ('AUTHORS', 'Multi-authored documents')                | 3322      |\n",
      "| ('AUTHORS', 'Authors per document')                    | 2.87      |\n",
      "| ('AUTHORS', 'Co-authors per document')                 | 3.27      |\n",
      "| ('AUTHORS', 'International co-authorship %')           | 17.08     |\n",
      "| ('AUTHORS', 'Author appearances')                      | 11486     |\n",
      "| ('AUTHORS', 'Documents per author')                    | 0.34      |\n",
      "| ('AUTHORS', 'Collaboration index')                     | 1.0       |\n",
      "| ('AUTHORS', 'Organizations')                           | 4018      |\n",
      "| ('AUTHORS', 'Organizations (1st author)')              | 2407      |\n",
      "| ('AUTHORS', 'Countries')                               | 118       |\n",
      "| ('AUTHORS', 'Countries (1st author)')                  | 111       |\n",
      "| ('KEYWORDS', 'Raw author keywords')                    | 6986      |\n",
      "| ('KEYWORDS', 'Cleaned author keywords')                | 6986      |\n",
      "| ('KEYWORDS', 'Raw index keywords')                     | 11343     |\n",
      "| ('KEYWORDS', 'Cleaned index keywords')                 | 11343     |\n",
      "| ('KEYWORDS', 'Raw keywords')                           | 15229     |\n",
      "| ('KEYWORDS', 'Cleaned keywords')                       | 15229     |\n",
      "| ('NLP PHRASES', 'Raw title NLP phrases')               | 4711      |\n",
      "| ('NLP PHRASES', 'Cleaned title NLP phrases')           | 4711      |\n",
      "| ('NLP PHRASES', 'Raw abstract NLP phrases')            | 42499     |\n",
      "| ('NLP PHRASES', 'Cleaned abstract NLP phrases')        | 42499     |\n",
      "| ('NLP PHRASES', 'Raw NLP phrases')                     | 44779     |\n",
      "| ('NLP PHRASES', 'Cleaned NLP phrases')                 | 44779     |\n",
      "| ('DESCRIPTORS', 'Raw descriptors')                     | 54852     |\n",
      "| ('DESCRIPTORS', 'Cleaned descriptors')                 | 54852     |\n",
      "```\n",
      "\n"
     ]
    }
   ],
   "source": [
    "from techminer2.metrics import general_metrics\n",
    "\n",
    "info = general_metrics(\n",
    "    #\n",
    "    # DATABASE PARAMS:\n",
    "    root_dir=\"./\",\n",
    "    database=\"main\",\n",
    "    year_filter=(None, None),\n",
    "    cited_by_filter=(None, None),\n",
    ")\n",
    "\n",
    "print(info.prompt_)"
   ]
  },
  {
   "cell_type": "code",
   "execution_count": null,
   "id": "ebf57ca7-0b69-41c8-b1fe-d03b2c9dc425",
   "metadata": {},
   "outputs": [],
   "source": []
  }
 ],
 "metadata": {
  "kernelspec": {
   "display_name": "Python 3 (ipykernel)",
   "language": "python",
   "name": "python3"
  },
  "language_info": {
   "codemirror_mode": {
    "name": "ipython",
    "version": 3
   },
   "file_extension": ".py",
   "mimetype": "text/x-python",
   "name": "python",
   "nbconvert_exporter": "python",
   "pygments_lexer": "ipython3",
   "version": "3.9.6"
  }
 },
 "nbformat": 4,
 "nbformat_minor": 5
}
