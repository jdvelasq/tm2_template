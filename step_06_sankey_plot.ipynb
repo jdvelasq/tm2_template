{
 "cells": [
  {
   "cell_type": "code",
   "execution_count": 1,
   "metadata": {},
   "outputs": [
    {
     "name": "stdout",
     "output_type": "stream",
     "text": [
      "Note: to be able to use all crisp methods, you need to install some additional packages:  {'infomap', 'wurlitzer', 'bayanpy', 'graph_tool'}\n",
      "Note: to be able to use all crisp methods, you need to install some additional packages:  {'pyclustering', 'ASLPAw'}\n",
      "Note: to be able to use all crisp methods, you need to install some additional packages:  {'infomap', 'wurlitzer'}\n",
      "--INFO-- Applying `descriptors.the.txt` thesaurus to author/index keywords and abstract/title words\n",
      "2014  2015  2016  2017  2018  2019  2020  2021  2022  2023  \n",
      "2014 3\n",
      "2015 3\n",
      "2016 4\n",
      "2017 3\n",
      "2018 4\n",
      "2019 4\n",
      "2020 4\n",
      "2021 4\n",
      "2022 5\n",
      "2023 5\n"
     ]
    }
   ],
   "source": [
    "from techminer2.science_mapping.co_occurrence import communities_summary\n",
    "from techminer2.refine.thesaurus.descriptors import apply_thesaurus\n",
    "\n",
    "\n",
    "def generate_json_data():\n",
    "\n",
    "    occ_by_year = {\n",
    "        2014: 14,\n",
    "        2015: 10,\n",
    "        2016: 6,\n",
    "        2017: 8,\n",
    "        2018: 5,\n",
    "        2019: 7,\n",
    "        2020: 9,\n",
    "        2021: 8,\n",
    "        2022: 6,\n",
    "        2023: 6,\n",
    "    }\n",
    "\n",
    "    data = {}\n",
    "\n",
    "    for year in range(2014, 2024):\n",
    "        #\n",
    "        print(year, end=\"  \")\n",
    "\n",
    "        year_filter = (year, year)\n",
    "\n",
    "        m = communities_summary(\n",
    "            #\n",
    "            # PARAMS:\n",
    "            field=\"descriptors\",\n",
    "            #\n",
    "            # SUMMARY PARAMS:\n",
    "            conserve_counters=False,\n",
    "            #\n",
    "            # FILTER PARAMS:\n",
    "            top_n=None,\n",
    "            occ_range=(occ_by_year[year], None),\n",
    "            gc_range=(None, None),\n",
    "            custom_items=None,\n",
    "            #\n",
    "            # NETWORK PARAMS:\n",
    "            algorithm_or_dict=\"louvain\",\n",
    "            association_index=\"association\",\n",
    "            #\n",
    "            # DATABASE PARAMS:\n",
    "            root_dir=\"./\",\n",
    "            database=\"main\",\n",
    "            year_filter=year_filter,\n",
    "            cited_by_filter=(None, None),\n",
    "            document_type=[\n",
    "                'Article',\n",
    "                'Book chapter',\n",
    "                'Conference paper',\n",
    "                'Review',\n",
    "                'Book',\n",
    "                'Conference review',\n",
    "                'Short survey',\n",
    "                'Letter',\n",
    "            ],            \n",
    "        )\n",
    "\n",
    "        m[\"Terms\"] = m[\"Terms\"].str.split(\"; \")\n",
    "        m[\"Terms\"] = m[\"Terms\"].map(lambda x: [t.strip().replace(\"_\", \" \").title() for t in x[:10]])\n",
    "\n",
    "        data[str(year)] = {}\n",
    "        for cluster in range(m.shape[0]):\n",
    "            data[str(year)][str(cluster)] = m[\"Terms\"][cluster]\n",
    "    \n",
    "    print()\n",
    "    return data\n",
    "\n",
    "\n",
    "#\n",
    "# Generate the data for the clusters per year.\n",
    "apply_thesaurus(root_dir=\"./\")\n",
    "json_data = generate_json_data()\n",
    "\n",
    "for key in json_data.keys():\n",
    "    print(f\"{key} {len(json_data[key])}\")"
   ]
  },
  {
   "cell_type": "code",
   "execution_count": 127,
   "metadata": {},
   "outputs": [
    {
     "data": {
      "application/vnd.plotly.v1+json": {
       "config": {
        "plotlyServerURL": "https://plot.ly"
       },
       "data": [
        {
         "arrangement": "fixed",
         "link": {
          "source": [
           0,
           0,
           0,
           1,
           1,
           1,
           2,
           2,
           3,
           3,
           4,
           4,
           4,
           4,
           5,
           5,
           5,
           6,
           6,
           6,
           7,
           7,
           7,
           8,
           8,
           9,
           9,
           10,
           10,
           10,
           10,
           11,
           11,
           12,
           12,
           12,
           12,
           13,
           13,
           13,
           13,
           14,
           14,
           15,
           15,
           16,
           16,
           16,
           17,
           17,
           17,
           17,
           18,
           18,
           18,
           19,
           19,
           19,
           20,
           20,
           21,
           21,
           21,
           22,
           22,
           23,
           23,
           23,
           24,
           24,
           25,
           25,
           26,
           26,
           26,
           26,
           27,
           27,
           27,
           27,
           28,
           28,
           28,
           29,
           29,
           30,
           30,
           30,
           30,
           31,
           31,
           32,
           32,
           33,
           33,
           33
          ],
          "target": [
           3,
           4,
           5,
           4,
           5,
           3,
           5,
           4,
           6,
           7,
           6,
           8,
           9,
           7,
           8,
           7,
           6,
           12,
           10,
           11,
           11,
           12,
           10,
           10,
           12,
           10,
           12,
           14,
           15,
           16,
           13,
           13,
           15,
           14,
           15,
           16,
           13,
           17,
           19,
           20,
           18,
           17,
           18,
           18,
           20,
           19,
           17,
           20,
           22,
           21,
           24,
           23,
           22,
           23,
           21,
           24,
           21,
           22,
           21,
           23,
           25,
           27,
           26,
           26,
           27,
           26,
           25,
           28,
           27,
           28,
           31,
           30,
           29,
           30,
           32,
           33,
           29,
           31,
           30,
           32,
           29,
           33,
           31,
           34,
           36,
           34,
           35,
           36,
           37,
           37,
           35,
           36,
           34,
           38,
           37,
           35
          ],
          "value": [
           4,
           4,
           1,
           2,
           2,
           1,
           2,
           2,
           3,
           4,
           3,
           3,
           1,
           2,
           2,
           3,
           3,
           4,
           3,
           1,
           4,
           1,
           1,
           4,
           2,
           1,
           1,
           3,
           4,
           1,
           1,
           5,
           1,
           3,
           2,
           1,
           1,
           3,
           1,
           4,
           1,
           4,
           2,
           6,
           1,
           3,
           1,
           1,
           2,
           3,
           1,
           1,
           3,
           3,
           2,
           3,
           1,
           1,
           1,
           3,
           4,
           2,
           1,
           3,
           1,
           3,
           2,
           2,
           2,
           1,
           6,
           3,
           4,
           4,
           1,
           1,
           1,
           1,
           1,
           2,
           1,
           3,
           1,
           6,
           1,
           1,
           2,
           2,
           1,
           5,
           4,
           2,
           3,
           2,
           1,
           1
          ]
         },
         "node": {
          "color": [
           "RGB(23,190,207)",
           "RGB(255,102,0)",
           "RGB(188,189,34)",
           "RGB(214,39,40)",
           "RGB(148,103,189)",
           "RGB(127,127,127)",
           "RGB(214,39,40)",
           "RGB(31,119,180)",
           "RGB(255,102,0)",
           "RGB(44,160,44)",
           "RGB(148,103,189)",
           "RGB(31,119,180)",
           "RGB(214,39,40)",
           "RGB(31,119,180)",
           "RGB(214,39,40)",
           "RGB(255,102,0)",
           "RGB(44,160,44)",
           "RGB(214,39,40)",
           "RGB(148,103,189)",
           "RGB(44,160,44)",
           "RGB(227,119,194)",
           "RGB(31,119,180)",
           "RGB(214,39,40)",
           "RGB(255,102,0)",
           "RGB(44,160,44)",
           "RGB(31,119,180)",
           "RGB(214,39,40)",
           "RGB(44,160,44)",
           "RGB(25, 25, 112)",
           "RGB(214,39,40)",
           "RGB(127,127,127)",
           "RGB(227,119,194)",
           "RGB(255, 0, 255)",
           "RGB(140,86,75)",
           "RGB(214,39,40)",
           "RGB(188,189,34)",
           "RGB(0, 191, 255)",
           "RGB(227,119,194)",
           "RGB(140,86,75)"
          ],
          "label": [
           "Competitive Intelligence<br>Information Analysis<br>Decision Making<br>Data Warehouse<br>Big Data<br>Data Analytics",
           "Information Systems<br>Decision Support System<br>Business Intelligence System<br>Artificial Intelligence<br>Business Analytics<br>Information Use",
           "Data Mining<br>Competitiveness<br>Competitive Advantages<br>Decision Making Processes<br>On Line Analytical Processing<br>Information Technologies",
           "Information Analysis<br>Competitive Intelligence<br>Big Data<br>Data Analytics<br>Analytics<br>Data Handling",
           "Decision Making<br>Business Intelligence System<br>Information Systems<br>Data Warehouse<br>Decision Makers<br>Business Intelligence Solutions",
           "Decision Support System<br>Data Mining<br>Decision Support<br>Artificial Intelligence<br>Business Intelligence Applications<br>Operations Research",
           "Information Analysis<br>Competitive Intelligence<br>Decision Making<br>Operations Research<br>Analytics<br>Business Intelligence Solutions",
           "Big Data<br>Data Mining<br>Data Analytics<br>Business Intelligence Tools<br>Data Visualisation<br>Artificial Intelligence",
           "Information Systems<br>Business Intelligence System<br>Decision Support System<br>Information Use<br>Decision Support<br>Success Factors",
           "Data Warehouse<br>Data Sources<br>Data Warehousing<br>On Line Analytical Processing<br>Health Care<br>Insights",
           "Decision Making<br>Business Intelligence System<br>Information Systems<br>Data Warehouse<br>Information Use<br>Decision Support System",
           "Big Data<br>Data Mining<br>Data Analytics<br>Analytics<br>Data Handling<br>Business Analytics",
           "Information Analysis<br>Competitive Intelligence<br>Operations Research<br>Competitive Advantages<br>Competitiveness<br>Meta Data",
           "Big Data<br>Data Mining<br>Data Analytics<br>Artificial Intelligence<br>Business Intelligence Applications<br>Business Analytics",
           "Information Analysis<br>Competitive Intelligence<br>Decision Making<br>Business Intelligence Solutions<br>Knowledge Management<br>Decision Making Processes",
           "Information Systems<br>Business Intelligence System<br>Information Use<br>Decision Support System<br>Analytics<br>Competitiveness",
           "Data Warehouse<br>Business Intelligence Tools<br>On Line Analytical Processing<br>Data Sources<br>Business Decisions<br>Meta Data",
           "Information Analysis<br>Competitive Intelligence<br>Big Data<br>Business Intelligence Tools<br>Business Intelligence Solutions<br>Knowledge Management",
           "Decision Making<br>Information Systems<br>Business Intelligence System<br>Information Use<br>Decision Support System<br>Competitiveness",
           "Data Warehouse<br>Data Mining<br>Data Handling<br>Data Sources<br>On Line Analytical Processing<br>Social Networks",
           "Data Analytics<br>Analytics<br>Data Visualisation<br>Big Data Analytics<br>Visualizations<br>Semantics",
           "Big Data<br>Data Analytics<br>Data Mining<br>Decision Support System<br>Competitive Intelligence<br>Artificial Intelligence",
           "Information Analysis<br>Decision Making<br>Business Intelligence System<br>Business Intelligence Solutions<br>Data Sources<br>Decision Making Processes",
           "Information Systems<br>Information Use<br>Analytics<br>Data Visualisation<br>Dashboards<br>Organizational Performance",
           "Data Warehouse<br>Business Intelligence Tools<br>Extract Transform And Load<br>On Line Analytical Processing<br>Business Processes<br>Business Intelligence Platforms",
           "Big Data<br>Data Analytics<br>Artificial Intelligence<br>Machine Learning<br>Analytics<br>Business Analytics",
           "Information Analysis<br>Decision Making<br>Business Intelligence System<br>Information Systems<br>Information Use<br>Decision Support System",
           "Data Warehouse<br>Data Mining<br>Business Processes<br>Competitive Intelligence<br>Competitiveness<br>Data Quality",
           "Business Intelligence Tools<br>Data Visualisation<br>Covid 19<br>Business Data<br>Visualizations<br>Dashboards",
           "Information Analysis<br>Decision Making<br>Business Intelligence System<br>Data Warehouse<br>Business Intelligence Tools<br>Business Intelligence Solutions",
           "Decision Support System<br>Machine Learning<br>Information Systems<br>Sales<br>Information Technologies<br>Business Processes",
           "Data Analytics<br>Big Data<br>Artificial Intelligence<br>Analytics<br>Data Mining<br>Business Analytics",
           "Knowledge Management<br>Competitiveness<br>Competitive Advantages<br>Competitive Intelligence<br>Innovativeness<br>Finance",
           "Data Visualisation<br>Visualizations<br>Dashboards<br>Digital Transformations<br>Business Intelligence Dashboards<br>Performance Indicators",
           "Information Analysis<br>Decision Making<br>Business Intelligence System<br>Business Intelligence Tools<br>Data Warehouse<br>Decision Support System",
           "Machine Learning<br>Data Mining<br>Sales<br>Covid 19<br>Deep Learning<br>Health Care",
           "Insights<br>Information Technologies<br>Information Systems<br>Structural Equations<br>Data Quality<br>Business Intelligence Implementations",
           "Data Analytics<br>Big Data<br>Artificial Intelligence<br>Business Analytics<br>Business Processes<br>Analytics",
           "Data Visualisation<br>Visualizations<br>Meta Data<br>Actionable Insights<br>Business Intelligence Platforms<br>Processes"
          ],
          "line": {
           "color": "black",
           "width": 0.3
          },
          "pad": 10,
          "thickness": 10,
          "x": [
           0.025,
           0.025,
           0.025,
           0.13055555555555556,
           0.13055555555555556,
           0.13055555555555556,
           0.2361111111111111,
           0.2361111111111111,
           0.2361111111111111,
           0.2361111111111111,
           0.3416666666666667,
           0.3416666666666667,
           0.3416666666666667,
           0.44722222222222224,
           0.44722222222222224,
           0.44722222222222224,
           0.44722222222222224,
           0.5527777777777778,
           0.5527777777777778,
           0.5527777777777778,
           0.5527777777777778,
           0.6583333333333333,
           0.6583333333333333,
           0.6583333333333333,
           0.6583333333333333,
           0.7638888888888888,
           0.7638888888888888,
           0.7638888888888888,
           0.7638888888888888,
           0.8694444444444445,
           0.8694444444444445,
           0.8694444444444445,
           0.8694444444444445,
           0.8694444444444445,
           0.9749999999999999,
           0.9749999999999999,
           0.9749999999999999,
           0.9749999999999999,
           0.9749999999999999
          ],
          "y": [
           0.15,
           0.45,
           0.75,
           0.15,
           0.45,
           0.75,
           0.15,
           0.45,
           0.75,
           0.95,
           0.13,
           0.4,
           0.7,
           0.11,
           0.35,
           0.6,
           0.8,
           0.1,
           0.45,
           0.75,
           0.95,
           0.12,
           0.4,
           0.6,
           0.8,
           0.11,
           0.4,
           0.63,
           0.8,
           0.07,
           0.295,
           0.55,
           0.76,
           0.9,
           0.155,
           0.41,
           0.63,
           0.83,
           0.99
          ]
         },
         "textfont": {
          "color": "black",
          "size": 9
         },
         "type": "sankey"
        }
       ],
       "layout": {
        "annotations": [
         {
          "align": "center",
          "font": {
           "size": 11
          },
          "showarrow": false,
          "text": "2014",
          "x": 0.02,
          "xref": "paper",
          "y": 1.05,
          "yref": "paper"
         },
         {
          "align": "center",
          "font": {
           "size": 11
          },
          "showarrow": false,
          "text": "2015",
          "x": 0.12666666666666665,
          "xref": "paper",
          "y": 1.05,
          "yref": "paper"
         },
         {
          "align": "center",
          "font": {
           "size": 11
          },
          "showarrow": false,
          "text": "2016",
          "x": 0.2333333333333333,
          "xref": "paper",
          "y": 1.05,
          "yref": "paper"
         },
         {
          "align": "center",
          "font": {
           "size": 11
          },
          "showarrow": false,
          "text": "2017",
          "x": 0.34,
          "xref": "paper",
          "y": 1.05,
          "yref": "paper"
         },
         {
          "align": "center",
          "font": {
           "size": 11
          },
          "showarrow": false,
          "text": "2018",
          "x": 0.44666666666666666,
          "xref": "paper",
          "y": 1.05,
          "yref": "paper"
         },
         {
          "align": "center",
          "font": {
           "size": 11
          },
          "showarrow": false,
          "text": "2019",
          "x": 0.5533333333333333,
          "xref": "paper",
          "y": 1.05,
          "yref": "paper"
         },
         {
          "align": "center",
          "font": {
           "size": 11
          },
          "showarrow": false,
          "text": "2020",
          "x": 0.66,
          "xref": "paper",
          "y": 1.05,
          "yref": "paper"
         },
         {
          "align": "center",
          "font": {
           "size": 11
          },
          "showarrow": false,
          "text": "2021",
          "x": 0.7666666666666666,
          "xref": "paper",
          "y": 1.05,
          "yref": "paper"
         },
         {
          "align": "center",
          "font": {
           "size": 11
          },
          "showarrow": false,
          "text": "2022",
          "x": 0.8733333333333333,
          "xref": "paper",
          "y": 1.05,
          "yref": "paper"
         },
         {
          "align": "center",
          "font": {
           "size": 11
          },
          "showarrow": false,
          "text": "2023",
          "x": 0.9800000000000001,
          "xref": "paper",
          "y": 1.05,
          "yref": "paper"
         }
        ],
        "font": {
         "size": 6
        },
        "height": 1100,
        "template": {
         "data": {
          "bar": [
           {
            "error_x": {
             "color": "#2a3f5f"
            },
            "error_y": {
             "color": "#2a3f5f"
            },
            "marker": {
             "line": {
              "color": "#E5ECF6",
              "width": 0.5
             },
             "pattern": {
              "fillmode": "overlay",
              "size": 10,
              "solidity": 0.2
             }
            },
            "type": "bar"
           }
          ],
          "barpolar": [
           {
            "marker": {
             "line": {
              "color": "#E5ECF6",
              "width": 0.5
             },
             "pattern": {
              "fillmode": "overlay",
              "size": 10,
              "solidity": 0.2
             }
            },
            "type": "barpolar"
           }
          ],
          "carpet": [
           {
            "aaxis": {
             "endlinecolor": "#2a3f5f",
             "gridcolor": "white",
             "linecolor": "white",
             "minorgridcolor": "white",
             "startlinecolor": "#2a3f5f"
            },
            "baxis": {
             "endlinecolor": "#2a3f5f",
             "gridcolor": "white",
             "linecolor": "white",
             "minorgridcolor": "white",
             "startlinecolor": "#2a3f5f"
            },
            "type": "carpet"
           }
          ],
          "choropleth": [
           {
            "colorbar": {
             "outlinewidth": 0,
             "ticks": ""
            },
            "type": "choropleth"
           }
          ],
          "contour": [
           {
            "colorbar": {
             "outlinewidth": 0,
             "ticks": ""
            },
            "colorscale": [
             [
              0,
              "#0d0887"
             ],
             [
              0.1111111111111111,
              "#46039f"
             ],
             [
              0.2222222222222222,
              "#7201a8"
             ],
             [
              0.3333333333333333,
              "#9c179e"
             ],
             [
              0.4444444444444444,
              "#bd3786"
             ],
             [
              0.5555555555555556,
              "#d8576b"
             ],
             [
              0.6666666666666666,
              "#ed7953"
             ],
             [
              0.7777777777777778,
              "#fb9f3a"
             ],
             [
              0.8888888888888888,
              "#fdca26"
             ],
             [
              1,
              "#f0f921"
             ]
            ],
            "type": "contour"
           }
          ],
          "contourcarpet": [
           {
            "colorbar": {
             "outlinewidth": 0,
             "ticks": ""
            },
            "type": "contourcarpet"
           }
          ],
          "heatmap": [
           {
            "colorbar": {
             "outlinewidth": 0,
             "ticks": ""
            },
            "colorscale": [
             [
              0,
              "#0d0887"
             ],
             [
              0.1111111111111111,
              "#46039f"
             ],
             [
              0.2222222222222222,
              "#7201a8"
             ],
             [
              0.3333333333333333,
              "#9c179e"
             ],
             [
              0.4444444444444444,
              "#bd3786"
             ],
             [
              0.5555555555555556,
              "#d8576b"
             ],
             [
              0.6666666666666666,
              "#ed7953"
             ],
             [
              0.7777777777777778,
              "#fb9f3a"
             ],
             [
              0.8888888888888888,
              "#fdca26"
             ],
             [
              1,
              "#f0f921"
             ]
            ],
            "type": "heatmap"
           }
          ],
          "heatmapgl": [
           {
            "colorbar": {
             "outlinewidth": 0,
             "ticks": ""
            },
            "colorscale": [
             [
              0,
              "#0d0887"
             ],
             [
              0.1111111111111111,
              "#46039f"
             ],
             [
              0.2222222222222222,
              "#7201a8"
             ],
             [
              0.3333333333333333,
              "#9c179e"
             ],
             [
              0.4444444444444444,
              "#bd3786"
             ],
             [
              0.5555555555555556,
              "#d8576b"
             ],
             [
              0.6666666666666666,
              "#ed7953"
             ],
             [
              0.7777777777777778,
              "#fb9f3a"
             ],
             [
              0.8888888888888888,
              "#fdca26"
             ],
             [
              1,
              "#f0f921"
             ]
            ],
            "type": "heatmapgl"
           }
          ],
          "histogram": [
           {
            "marker": {
             "pattern": {
              "fillmode": "overlay",
              "size": 10,
              "solidity": 0.2
             }
            },
            "type": "histogram"
           }
          ],
          "histogram2d": [
           {
            "colorbar": {
             "outlinewidth": 0,
             "ticks": ""
            },
            "colorscale": [
             [
              0,
              "#0d0887"
             ],
             [
              0.1111111111111111,
              "#46039f"
             ],
             [
              0.2222222222222222,
              "#7201a8"
             ],
             [
              0.3333333333333333,
              "#9c179e"
             ],
             [
              0.4444444444444444,
              "#bd3786"
             ],
             [
              0.5555555555555556,
              "#d8576b"
             ],
             [
              0.6666666666666666,
              "#ed7953"
             ],
             [
              0.7777777777777778,
              "#fb9f3a"
             ],
             [
              0.8888888888888888,
              "#fdca26"
             ],
             [
              1,
              "#f0f921"
             ]
            ],
            "type": "histogram2d"
           }
          ],
          "histogram2dcontour": [
           {
            "colorbar": {
             "outlinewidth": 0,
             "ticks": ""
            },
            "colorscale": [
             [
              0,
              "#0d0887"
             ],
             [
              0.1111111111111111,
              "#46039f"
             ],
             [
              0.2222222222222222,
              "#7201a8"
             ],
             [
              0.3333333333333333,
              "#9c179e"
             ],
             [
              0.4444444444444444,
              "#bd3786"
             ],
             [
              0.5555555555555556,
              "#d8576b"
             ],
             [
              0.6666666666666666,
              "#ed7953"
             ],
             [
              0.7777777777777778,
              "#fb9f3a"
             ],
             [
              0.8888888888888888,
              "#fdca26"
             ],
             [
              1,
              "#f0f921"
             ]
            ],
            "type": "histogram2dcontour"
           }
          ],
          "mesh3d": [
           {
            "colorbar": {
             "outlinewidth": 0,
             "ticks": ""
            },
            "type": "mesh3d"
           }
          ],
          "parcoords": [
           {
            "line": {
             "colorbar": {
              "outlinewidth": 0,
              "ticks": ""
             }
            },
            "type": "parcoords"
           }
          ],
          "pie": [
           {
            "automargin": true,
            "type": "pie"
           }
          ],
          "scatter": [
           {
            "fillpattern": {
             "fillmode": "overlay",
             "size": 10,
             "solidity": 0.2
            },
            "type": "scatter"
           }
          ],
          "scatter3d": [
           {
            "line": {
             "colorbar": {
              "outlinewidth": 0,
              "ticks": ""
             }
            },
            "marker": {
             "colorbar": {
              "outlinewidth": 0,
              "ticks": ""
             }
            },
            "type": "scatter3d"
           }
          ],
          "scattercarpet": [
           {
            "marker": {
             "colorbar": {
              "outlinewidth": 0,
              "ticks": ""
             }
            },
            "type": "scattercarpet"
           }
          ],
          "scattergeo": [
           {
            "marker": {
             "colorbar": {
              "outlinewidth": 0,
              "ticks": ""
             }
            },
            "type": "scattergeo"
           }
          ],
          "scattergl": [
           {
            "marker": {
             "colorbar": {
              "outlinewidth": 0,
              "ticks": ""
             }
            },
            "type": "scattergl"
           }
          ],
          "scattermapbox": [
           {
            "marker": {
             "colorbar": {
              "outlinewidth": 0,
              "ticks": ""
             }
            },
            "type": "scattermapbox"
           }
          ],
          "scatterpolar": [
           {
            "marker": {
             "colorbar": {
              "outlinewidth": 0,
              "ticks": ""
             }
            },
            "type": "scatterpolar"
           }
          ],
          "scatterpolargl": [
           {
            "marker": {
             "colorbar": {
              "outlinewidth": 0,
              "ticks": ""
             }
            },
            "type": "scatterpolargl"
           }
          ],
          "scatterternary": [
           {
            "marker": {
             "colorbar": {
              "outlinewidth": 0,
              "ticks": ""
             }
            },
            "type": "scatterternary"
           }
          ],
          "surface": [
           {
            "colorbar": {
             "outlinewidth": 0,
             "ticks": ""
            },
            "colorscale": [
             [
              0,
              "#0d0887"
             ],
             [
              0.1111111111111111,
              "#46039f"
             ],
             [
              0.2222222222222222,
              "#7201a8"
             ],
             [
              0.3333333333333333,
              "#9c179e"
             ],
             [
              0.4444444444444444,
              "#bd3786"
             ],
             [
              0.5555555555555556,
              "#d8576b"
             ],
             [
              0.6666666666666666,
              "#ed7953"
             ],
             [
              0.7777777777777778,
              "#fb9f3a"
             ],
             [
              0.8888888888888888,
              "#fdca26"
             ],
             [
              1,
              "#f0f921"
             ]
            ],
            "type": "surface"
           }
          ],
          "table": [
           {
            "cells": {
             "fill": {
              "color": "#EBF0F8"
             },
             "line": {
              "color": "white"
             }
            },
            "header": {
             "fill": {
              "color": "#C8D4E3"
             },
             "line": {
              "color": "white"
             }
            },
            "type": "table"
           }
          ]
         },
         "layout": {
          "annotationdefaults": {
           "arrowcolor": "#2a3f5f",
           "arrowhead": 0,
           "arrowwidth": 1
          },
          "autotypenumbers": "strict",
          "coloraxis": {
           "colorbar": {
            "outlinewidth": 0,
            "ticks": ""
           }
          },
          "colorscale": {
           "diverging": [
            [
             0,
             "#8e0152"
            ],
            [
             0.1,
             "#c51b7d"
            ],
            [
             0.2,
             "#de77ae"
            ],
            [
             0.3,
             "#f1b6da"
            ],
            [
             0.4,
             "#fde0ef"
            ],
            [
             0.5,
             "#f7f7f7"
            ],
            [
             0.6,
             "#e6f5d0"
            ],
            [
             0.7,
             "#b8e186"
            ],
            [
             0.8,
             "#7fbc41"
            ],
            [
             0.9,
             "#4d9221"
            ],
            [
             1,
             "#276419"
            ]
           ],
           "sequential": [
            [
             0,
             "#0d0887"
            ],
            [
             0.1111111111111111,
             "#46039f"
            ],
            [
             0.2222222222222222,
             "#7201a8"
            ],
            [
             0.3333333333333333,
             "#9c179e"
            ],
            [
             0.4444444444444444,
             "#bd3786"
            ],
            [
             0.5555555555555556,
             "#d8576b"
            ],
            [
             0.6666666666666666,
             "#ed7953"
            ],
            [
             0.7777777777777778,
             "#fb9f3a"
            ],
            [
             0.8888888888888888,
             "#fdca26"
            ],
            [
             1,
             "#f0f921"
            ]
           ],
           "sequentialminus": [
            [
             0,
             "#0d0887"
            ],
            [
             0.1111111111111111,
             "#46039f"
            ],
            [
             0.2222222222222222,
             "#7201a8"
            ],
            [
             0.3333333333333333,
             "#9c179e"
            ],
            [
             0.4444444444444444,
             "#bd3786"
            ],
            [
             0.5555555555555556,
             "#d8576b"
            ],
            [
             0.6666666666666666,
             "#ed7953"
            ],
            [
             0.7777777777777778,
             "#fb9f3a"
            ],
            [
             0.8888888888888888,
             "#fdca26"
            ],
            [
             1,
             "#f0f921"
            ]
           ]
          },
          "colorway": [
           "#636efa",
           "#EF553B",
           "#00cc96",
           "#ab63fa",
           "#FFA15A",
           "#19d3f3",
           "#FF6692",
           "#B6E880",
           "#FF97FF",
           "#FECB52"
          ],
          "font": {
           "color": "#2a3f5f"
          },
          "geo": {
           "bgcolor": "white",
           "lakecolor": "white",
           "landcolor": "#E5ECF6",
           "showlakes": true,
           "showland": true,
           "subunitcolor": "white"
          },
          "hoverlabel": {
           "align": "left"
          },
          "hovermode": "closest",
          "mapbox": {
           "style": "light"
          },
          "paper_bgcolor": "white",
          "plot_bgcolor": "#E5ECF6",
          "polar": {
           "angularaxis": {
            "gridcolor": "white",
            "linecolor": "white",
            "ticks": ""
           },
           "bgcolor": "#E5ECF6",
           "radialaxis": {
            "gridcolor": "white",
            "linecolor": "white",
            "ticks": ""
           }
          },
          "scene": {
           "xaxis": {
            "backgroundcolor": "#E5ECF6",
            "gridcolor": "white",
            "gridwidth": 2,
            "linecolor": "white",
            "showbackground": true,
            "ticks": "",
            "zerolinecolor": "white"
           },
           "yaxis": {
            "backgroundcolor": "#E5ECF6",
            "gridcolor": "white",
            "gridwidth": 2,
            "linecolor": "white",
            "showbackground": true,
            "ticks": "",
            "zerolinecolor": "white"
           },
           "zaxis": {
            "backgroundcolor": "#E5ECF6",
            "gridcolor": "white",
            "gridwidth": 2,
            "linecolor": "white",
            "showbackground": true,
            "ticks": "",
            "zerolinecolor": "white"
           }
          },
          "shapedefaults": {
           "line": {
            "color": "#2a3f5f"
           }
          },
          "ternary": {
           "aaxis": {
            "gridcolor": "white",
            "linecolor": "white",
            "ticks": ""
           },
           "baxis": {
            "gridcolor": "white",
            "linecolor": "white",
            "ticks": ""
           },
           "bgcolor": "#E5ECF6",
           "caxis": {
            "gridcolor": "white",
            "linecolor": "white",
            "ticks": ""
           }
          },
          "title": {
           "x": 0.05
          },
          "xaxis": {
           "automargin": true,
           "gridcolor": "white",
           "linecolor": "white",
           "ticks": "",
           "title": {
            "standoff": 15
           },
           "zerolinecolor": "white",
           "zerolinewidth": 2
          },
          "yaxis": {
           "automargin": true,
           "gridcolor": "white",
           "linecolor": "white",
           "ticks": "",
           "title": {
            "standoff": 15
           },
           "zerolinecolor": "white",
           "zerolinewidth": 2
          }
         }
        },
        "width": 1600
       }
      }
     },
     "metadata": {},
     "output_type": "display_data"
    }
   ],
   "source": [
    "import sankey\n",
    "\n",
    "# 2014 3\n",
    "# 2015 3\n",
    "# 2016 4\n",
    "# 2017 3\n",
    "# 2018 4\n",
    "# 2019 4\n",
    "# 2020 4\n",
    "# 2021 4\n",
    "# 2022 5\n",
    "# 2023 5\n",
    "\n",
    "\n",
    "def flip_cluster(json_data, year, c1, c2):\n",
    "    aux = json_data[year][c1]\n",
    "    json_data[year][c1] = json_data[year][c2]\n",
    "    json_data[year][c2] = aux\n",
    "    return json_data\n",
    "\n",
    "\n",
    "# json_data = flip_cluster(json_data, '2017', '0', '1')\n",
    "\n",
    "\n",
    "BIG_DATA_BLUE = 'RGB(31,119,180)'\n",
    "DATA_WAREHOUSE_GREEN = 'RGB(44,160,44)'\n",
    "INFORMATION_ANALYSIS_RED = 'RGB(214,39,40)'\n",
    "INFORMATION_SYSTEMS_ORANGE = 'RGB(255,102,0)'\n",
    "DECISION_MAKING_PURPLE = 'RGB(148,103,189)'\n",
    "DATA_VISUALIZATION_BROWN = 'RGB(140,86,75)'\n",
    "DATA_ANALYTICS_YELLOW = 'RGB(227,119,194)'\n",
    "DECISION_SUPPORT_SYSTEMS_GRAY = 'RGB(127,127,127)'\n",
    "DATA_MINING_PINK = 'RGB(188,189,34)'\n",
    "COMPETITIVE_INTELLIGENCE__CYAN = 'RGB(23,190,207)'\n",
    "MACHINE_LEARNING_OLIVE = 'RGB(188,189,34)'\n",
    "INSIGHTS_SKY = 'RGB(0, 191, 255)'\n",
    "KNOWLEDGE_MANAGEMENT_MAGENTA = 'RGB(255, 0, 255)'\n",
    "BI_TOOLS_FOREST = 'RGB(25, 25, 112)'\n",
    "\n",
    "sankey.make_sankey_plot(\n",
    "    json_data,\n",
    "    y=[ \n",
    "        # 2014: 3\n",
    "        0.15,\n",
    "        0.45,\n",
    "        0.75,\n",
    "        #\n",
    "        # 2015: 3\n",
    "        0.15,\n",
    "        0.45,\n",
    "        0.75,\n",
    "        #\n",
    "        # 2016: 4\n",
    "        0.15,\n",
    "        0.45,\n",
    "        0.75,\n",
    "        0.95,\n",
    "        #\n",
    "        # 2017: 3\n",
    "        0.13,\n",
    "        0.40,\n",
    "        0.70,\n",
    "        #\n",
    "        # 2018: 4\n",
    "        0.11,\n",
    "        0.35,\n",
    "        0.60,\n",
    "        0.80,\n",
    "        #\n",
    "        # 2019: 4\n",
    "        0.10,\n",
    "        0.45,\n",
    "        0.75,\n",
    "        0.95,\n",
    "        #\n",
    "        # 2020: 4\n",
    "        0.12,\n",
    "        0.40,\n",
    "        0.60,\n",
    "        0.80,\n",
    "        #\n",
    "        # 2021: 4\n",
    "        0.11,\n",
    "        0.40,\n",
    "        0.63, \n",
    "        0.80,\n",
    "        #\n",
    "        # 2022: 5\n",
    "        0.07,\n",
    "        0.295,\n",
    "        0.55,\n",
    "        0.76,    \n",
    "        0.90,\n",
    "        #\n",
    "        # 2023: 5\n",
    "        0.155,\n",
    "        0.41,\n",
    "        0.63,\n",
    "        0.83,                           \n",
    "        0.99,\n",
    "    ],\n",
    "    color=[\n",
    "        COMPETITIVE_INTELLIGENCE__CYAN, INFORMATION_SYSTEMS_ORANGE, DATA_MINING_PINK,\n",
    "        INFORMATION_ANALYSIS_RED, DECISION_MAKING_PURPLE, DECISION_SUPPORT_SYSTEMS_GRAY,\n",
    "        INFORMATION_ANALYSIS_RED, BIG_DATA_BLUE, INFORMATION_SYSTEMS_ORANGE, DATA_WAREHOUSE_GREEN,\n",
    "        DECISION_MAKING_PURPLE, BIG_DATA_BLUE, INFORMATION_ANALYSIS_RED,\n",
    "        BIG_DATA_BLUE, INFORMATION_ANALYSIS_RED, INFORMATION_SYSTEMS_ORANGE, DATA_WAREHOUSE_GREEN,\n",
    "        INFORMATION_ANALYSIS_RED, DECISION_MAKING_PURPLE, DATA_WAREHOUSE_GREEN, DATA_ANALYTICS_YELLOW,\n",
    "        BIG_DATA_BLUE, INFORMATION_ANALYSIS_RED, INFORMATION_SYSTEMS_ORANGE, DATA_WAREHOUSE_GREEN,\n",
    "        BIG_DATA_BLUE, INFORMATION_ANALYSIS_RED, DATA_WAREHOUSE_GREEN, BI_TOOLS_FOREST,\n",
    "        INFORMATION_ANALYSIS_RED, DECISION_SUPPORT_SYSTEMS_GRAY, DATA_ANALYTICS_YELLOW, KNOWLEDGE_MANAGEMENT_MAGENTA, DATA_VISUALIZATION_BROWN,\n",
    "        INFORMATION_ANALYSIS_RED, MACHINE_LEARNING_OLIVE, INSIGHTS_SKY, DATA_ANALYTICS_YELLOW, DATA_VISUALIZATION_BROWN,\n",
    "\n",
    "    ],\n",
    ").update_layout(width=1600, height=1100, font={'size': 6}).show()"
   ]
  },
  {
   "cell_type": "code",
   "execution_count": null,
   "metadata": {},
   "outputs": [],
   "source": []
  },
  {
   "cell_type": "code",
   "execution_count": null,
   "metadata": {},
   "outputs": [],
   "source": [
    "from techminer2.science_mapping.co_occurrence import report\n",
    "\n",
    "def generate_report():\n",
    "\n",
    "    for year in range(2016, 2024):\n",
    "        print(year)\n",
    "\n",
    "        if year == 2016:\n",
    "            year_filter = (2014, 2016)\n",
    "        else:\n",
    "            year_filter = (year, year)\n",
    "\n",
    "        report(\n",
    "            field='descriptors',\n",
    "            #\n",
    "            # COLUMN PARAMS:\n",
    "            top_n=None,\n",
    "            occ_range=(3, None),\n",
    "            gc_range=(None, None),\n",
    "            custom_items=None,\n",
    "            #\n",
    "            # NETWORK PARAMS:\n",
    "            algorithm_or_dict=\"louvain\",\n",
    "            association_index=\"association\",\n",
    "            #\n",
    "            # DATABASE PARAMS:\n",
    "            root_dir=\"./\",\n",
    "            database=\"main\",\n",
    "            year_filter=year_filter,\n",
    "            cited_by_filter=(None, None),\n",
    "        )\n",
    "\n",
    "        !mv reports/co_occurrence/* clusters_by_year_description/{year}/\n",
    "\n",
    "generate_report()"
   ]
  }
 ],
 "metadata": {
  "kernelspec": {
   "display_name": ".venv",
   "language": "python",
   "name": "python3"
  },
  "language_info": {
   "codemirror_mode": {
    "name": "ipython",
    "version": 3
   },
   "file_extension": ".py",
   "mimetype": "text/x-python",
   "name": "python",
   "nbconvert_exporter": "python",
   "pygments_lexer": "ipython3",
   "version": "3.9.6"
  }
 },
 "nbformat": 4,
 "nbformat_minor": 2
}
